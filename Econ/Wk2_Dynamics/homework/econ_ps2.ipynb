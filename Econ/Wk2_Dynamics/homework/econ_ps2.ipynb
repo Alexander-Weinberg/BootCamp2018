{
 "cells": [
  {
   "cell_type": "markdown",
   "metadata": {},
   "source": [
    "# Question 1"
   ]
  },
  {
   "cell_type": "markdown",
   "metadata": {},
   "source": [
    "# Question 2"
   ]
  },
  {
   "cell_type": "markdown",
   "metadata": {},
   "source": [
    "# Question 3"
   ]
  },
  {
   "cell_type": "markdown",
   "metadata": {},
   "source": [
    "Because it is pointwise continuous, $$ \\forall \\epsilon \\exists \\delta,\\text{s.t.} \\quad |g(\\hat{x}) - g(a)| < \\epsilon \\quad \\text{when} \\quad |\\hat{x} - a| < \\delta$$\n",
    "\n",
    "Now, b/c limit, $\\forall \\epsilon$ we can choose T s.t. \n",
    "$$|g^t(x) - \\hat{x}| < \\epsilon \\quad \\text{when} \\quad t > T $$\n",
    "\n",
    "We choose T s.t. \n",
    "$$|g^t(x) - \\hat{x}| < \\delta $$\n",
    "\n",
    "So,\n",
    "$$g(\\lim_{t \\rightarrow \\infty}g^{t}(x)) = g(\\hat{x}) = \\hat{x}$$"
   ]
  },
  {
   "cell_type": "code",
   "execution_count": null,
   "metadata": {},
   "outputs": [],
   "source": []
  }
 ],
 "metadata": {
  "kernelspec": {
   "display_name": "Python 3",
   "language": "python",
   "name": "python3"
  },
  "language_info": {
   "codemirror_mode": {
    "name": "ipython",
    "version": 3
   },
   "file_extension": ".py",
   "mimetype": "text/x-python",
   "name": "python",
   "nbconvert_exporter": "python",
   "pygments_lexer": "ipython3",
   "version": "3.6.5"
  }
 },
 "nbformat": 4,
 "nbformat_minor": 2
}
