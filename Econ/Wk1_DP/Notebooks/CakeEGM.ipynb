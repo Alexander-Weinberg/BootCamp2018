{
 "cells": [
  {
   "cell_type": "markdown",
   "metadata": {},
   "source": [
    "#  The Deterministic Cake Eating Problem - Endogenous Grid Method Solution\n",
    "### by [Jason DeBacker](http://jasondebacker.com), June 2018\n",
    "This Jupyter notebook illustrates how to solve the deterministic cake eating problem using Carroll's (2006) endogenous grid method (EGM).\n",
    "\n",
    "## The Problem:\n",
    "\n",
    "$$V(w)=\\max_{c} u(c)+\\beta V(w'), \\forall w\\in[0,\\bar{w}]$$\n",
    "\n",
    "The necessary condition (after applying the envelope theorem) is given by the Euler equation:\n",
    "\n",
    "$$ u'(c) = \\beta u'(c') $$\n",
    "\n",
    "The unknowns in this system are functions: The value function, $V(w)$, and the policy function, $c = \\phi(w)$ (or, equivalently, $w' = p(w)$).\n",
    "\n",
    "## The Solution:\n",
    "\n",
    "We'll solve this problem using policy function iteration with the endogenous grid method.  With this method, we'll use an iterative procedure to converge to a fixed point in function space, the true policy function, $\\phi(w)$, but we'll do some without the use of a minimizer or root-finder.  Another significant difference between EGM and standard PFI is that we'll choose a grid of $w'$ (and not $w$).  \n",
    "\n",
    "The computational algorithm for EGM is as follows:\n",
    "\n",
    "1. Create a discrete grid of the state variable, $w'$\n",
    "2. Make an initial guess at the policy function, $\\phi_{0}(w)$\n",
    "    * This will a function that returns a consumption value for any $w$\n",
    "3. Solve for $c$ for each point on the grid of $w'$ using the Euler equation:\n",
    "$$ c = u^{'-1}\\left(\\beta u'(\\phi_{0}(w'))\\right)$$\n",
    "4. Find the grid of $w$:\n",
    "    $$w = w' + c$$\n",
    "5. Using the grid for $w$, update the guess at the policy function: $\\phi_{1}(w) = K\\phi(w) = c $ (this is the $c$ solved for in step 3).\n",
    "5. Repeat this process:\n",
    "$$\\phi_{i+1} \\ (w) = K\\phi(w) = c$$\n",
    "6. Stop when, $|\\phi_{i+1} \\ (w)-\\phi_{i}(w)|<\\varepsilon$, where $\\varepsilon$ is a small number."
   ]
  },
  {
   "cell_type": "code",
   "execution_count": null,
   "metadata": {
    "collapsed": true
   },
   "outputs": [],
   "source": [
    "# Import packages\n",
    "import numpy as np\n",
    "import matplotlib.pyplot as plt\n",
    "import scipy.optimize as opt\n",
    "\n",
    "# to print plots inline\n",
    "%matplotlib inline"
   ]
  },
  {
   "cell_type": "markdown",
   "metadata": {},
   "source": [
    "## Step 1: Set parameters and create grid for state space\n",
    "\n",
    "Parameters:\n",
    "* $\\beta$ = rate of time preference\n",
    "* $\\sigma$ = coefficient of relative risk aversion (if $\\sigma = 1$, $u(c)=log(c)$), parameter describes the curvature of the utility function"
   ]
  },
  {
   "cell_type": "code",
   "execution_count": null,
   "metadata": {
    "collapsed": true
   },
   "outputs": [],
   "source": [
    "beta = 0.95\n",
    "sigma = 1.0\n",
    "R = 1\n",
    "\n",
    "'''\n",
    "------------------------------------------------------------------------\n",
    "Create Grid for State Space    \n",
    "------------------------------------------------------------------------\n",
    "lb_w      = scalar, lower bound of cake grid\n",
    "ub_w      = scalar, upper bound of cake grid \n",
    "size_w    = integer, number of grid points in cake state space\n",
    "w_grid    = vector, size_w x 1 vector of cake grid points \n",
    "------------------------------------------------------------------------\n",
    "'''\n",
    "lb_w = 0.4 \n",
    "ub_w = 2.0 \n",
    "size_w = 200  # Number of grid points\n",
    "w_grid = np.linspace(lb_w, ub_w, size_w)"
   ]
  },
  {
   "cell_type": "markdown",
   "metadata": {},
   "source": [
    "## Step 2: Create functions to use in solution"
   ]
  },
  {
   "cell_type": "code",
   "execution_count": null,
   "metadata": {
    "collapsed": true
   },
   "outputs": [],
   "source": [
    "def utility_c(C, sigma):\n",
    "    if sigma == 1:\n",
    "        U = np.log(C)\n",
    "    else:\n",
    "        U = (C ** (1 - sigma)) / (1 - sigma)\n",
    "    \n",
    "    return U\n",
    "\n",
    "\n",
    "def u_prime(C, sigma):\n",
    "    try:\n",
    "        # replace 0 and negative consumption with a tiny value\n",
    "        # to impose non-negativity on cons\n",
    "        C[C<=0] = 1e-10 \n",
    "    except TypeError:\n",
    "        if C <= 0:\n",
    "            C = 1e-10\n",
    "    MU = C ** - sigma\n",
    "    \n",
    "    return MU\n",
    "\n",
    "\n",
    "def u_prime_inv(C, sigma):\n",
    "    try:\n",
    "        # replace 0 and negative consumption with a tiny value\n",
    "        # to impose non-negativity on cons\n",
    "        C[C<=0] = 1e-10 \n",
    "    except TypeError:\n",
    "        if C <= 0:\n",
    "            C = 1e-10\n",
    "    MU = C ** (- 1 / sigma)\n",
    "    \n",
    "    return MU\n",
    "    "
   ]
  },
  {
   "cell_type": "code",
   "execution_count": null,
   "metadata": {
    "collapsed": true
   },
   "outputs": [],
   "source": [
    "def coleman_egm(phi, w_prime_grid, params):\n",
    "    '''\n",
    "    The Coleman-Endogenous Grid Method operator, which takes an\n",
    "    existing guess phi of the optimal consumption policy and computes and\n",
    "    returns the updated function Kphi on the endogenous grid points.\n",
    "    '''\n",
    "    beta, sigma = params\n",
    "    \n",
    "    # == Initialize c == #\n",
    "    c = np.empty_like(w_prime_grid)\n",
    "\n",
    "    # == solve for updated consumption value == #\n",
    "    c[0] = u_prime_inv(beta * u_prime((1 - beta) * w_prime_grid[0], sigma), sigma)\n",
    "    c[1] = u_prime_inv(beta * u_prime((1 - beta) * w_prime_grid[1], sigma), sigma)\n",
    "    for i, w_prime in enumerate(w_prime_grid[2:]):\n",
    "        c[i + 2] = u_prime_inv(beta * u_prime(phi(w_prime), sigma), sigma)\n",
    "    \n",
    "    # == Determine endogenous grid == #\n",
    "    w_grid = w_prime_grid / R + c\n",
    "    \n",
    "    # == Update policy function == #\n",
    "    Kphi = lambda x: np.interp(x, w_grid, c)\n",
    "    return Kphi"
   ]
  },
  {
   "cell_type": "markdown",
   "metadata": {},
   "source": [
    "## Step 3: Policy Function Iteration with EGM"
   ]
  },
  {
   "cell_type": "code",
   "execution_count": null,
   "metadata": {},
   "outputs": [],
   "source": [
    "'''\n",
    "------------------------------------------------------------------------\n",
    "Policy Function Iteration with Endogenous Grid Method\n",
    "------------------------------------------------------------------------\n",
    "PFtol     = scalar, tolerance required for policy function to converge\n",
    "PFdist    = scalar, distance between last two policy functions\n",
    "PFmaxiter = integer, maximum number of iterations for policy function\n",
    "phi       = function, policy function for choice of consumption at each iteration\n",
    "PFstore   = matrix, stores phi at each iteration \n",
    "PFiter    = integer, current iteration number\n",
    "PF_params = tuple, contains parameters to pass into Coleman operator: beta, sigma\n",
    "new_phi   = vector, updated policy function after applying Coleman operator \n",
    "------------------------------------------------------------------------\n",
    "'''\n",
    "PFtol = 1e-8 \n",
    "PFdist = 7.0 \n",
    "PFmaxiter = 500 \n",
    "phi = lambda x:  x # initial guess at policy function is to eat all cake\n",
    "PFstore = np.zeros((size_w, PFmaxiter)) #initialize PFstore array\n",
    "PFiter = 1 \n",
    "PF_params = (beta, sigma)\n",
    "while PFdist > PFtol and PFiter < PFmaxiter:\n",
    "    PFstore[:, PFiter] = phi(w_grid)\n",
    "    new_phi= coleman_egm(phi, w_grid, PF_params)\n",
    "    PFdist = (np.absolute(phi(w_grid) - new_phi(w_grid))).max()\n",
    "    phi = new_phi\n",
    "    PFiter += 1\n",
    "    print('Iteration ', PFiter, ' distance = ', PFdist)\n",
    "\n",
    "if PFiter < PFmaxiter:\n",
    "    print('Policy function converged after this many iterations:', PFiter)\n",
    "else:\n",
    "    print('Policy function did not converge')   "
   ]
  },
  {
   "cell_type": "markdown",
   "metadata": {},
   "source": [
    "## Step 4: Extract decision rules from solution"
   ]
  },
  {
   "cell_type": "code",
   "execution_count": null,
   "metadata": {},
   "outputs": [],
   "source": [
    "'''\n",
    "------------------------------------------------------------------------\n",
    "Find savings policy function and value function   \n",
    "------------------------------------------------------------------------\n",
    "optC  = vector, the optimal choice of c for each c\n",
    "optW  = vector, the optimal choice of w' for each w\n",
    "VF    = vector, the \"true\" value function\n",
    "------------------------------------------------------------------------\n",
    "'''\n",
    "optC = phi(w_grid) # optimal consumption\n",
    "optW = R * (w_grid - optC) # solution to the savings policy function from transition equation\n",
    "VF = utility_c(optC, sigma) / (1 - beta)"
   ]
  },
  {
   "cell_type": "markdown",
   "metadata": {},
   "source": [
    "## Visualize output"
   ]
  },
  {
   "cell_type": "code",
   "execution_count": null,
   "metadata": {},
   "outputs": [],
   "source": [
    "# Plot value function \n",
    "plt.figure()\n",
    "# plt.plot(wvec, VF)\n",
    "plt.scatter(w_grid[1:], VF[1:])\n",
    "plt.xlabel('Size of Cake')\n",
    "plt.ylabel('Value Function')\n",
    "plt.title('Value Function - deterministic cake eating')\n",
    "plt.show()"
   ]
  },
  {
   "cell_type": "code",
   "execution_count": null,
   "metadata": {},
   "outputs": [],
   "source": [
    "#Plot optimal consumption rule as a function of cake size\n",
    "plt.figure()\n",
    "fig, ax = plt.subplots()\n",
    "ax.plot(w_grid[1:], optC[1:], label='Consumption')\n",
    "# Now add the legend with some customizations.\n",
    "legend = ax.legend(loc='upper left', shadow=False)\n",
    "# Set the fontsize\n",
    "for label in legend.get_texts():\n",
    "    label.set_fontsize('large')\n",
    "for label in legend.get_lines():\n",
    "    label.set_linewidth(1.5)  # the legend line width\n",
    "plt.xlabel('Size of Cake')\n",
    "plt.ylabel('Optimal Consumption')\n",
    "plt.title('Policy Function, consumption - deterministic cake eating')\n",
    "plt.show()"
   ]
  },
  {
   "cell_type": "code",
   "execution_count": null,
   "metadata": {},
   "outputs": [],
   "source": [
    "#Plot cake to leave rule as a function of cake size\n",
    "plt.figure()\n",
    "fig, ax = plt.subplots()\n",
    "ax.plot(w_grid[1:], optW[1:], label='Savings')\n",
    "ax.plot(w_grid[1:], w_grid[1:], '--', label='45 degree line')\n",
    "# Now add the legend with some customizations.\n",
    "legend = ax.legend(loc='upper left', shadow=False)\n",
    "# Set the fontsize\n",
    "for label in legend.get_texts():\n",
    "    label.set_fontsize('large')\n",
    "for label in legend.get_lines():\n",
    "    label.set_linewidth(1.5)  # the legend line width\n",
    "plt.xlabel('Size of Cake')\n",
    "plt.ylabel('Optimal Savings')\n",
    "plt.title('Policy Function, savings - deterministic cake eating')\n",
    "plt.show()"
   ]
  },
  {
   "cell_type": "markdown",
   "metadata": {
    "collapsed": true
   },
   "source": [
    "## Finding approximation errors\n",
    "\n",
    "It's a little complicated (we need to do the guess and verify method), but we can show that with $\\sigma = 1.0$ (i.e., $u(c) = log(c)$), then the policy function is $w' = \\beta w$.  Knowing this, we can find the approximation error from our solution method (VFI over a discrete grid).  This errors are found as:"
   ]
  },
  {
   "cell_type": "code",
   "execution_count": null,
   "metadata": {},
   "outputs": [],
   "source": [
    "Wprime_errors = optW - beta * w_grid\n",
    "\n",
    "# Plot policy function approximation errors\n",
    "plt.figure()\n",
    "plt.plot(w_grid[1:], Wprime_errors[1:])\n",
    "plt.xlabel('Size of Cake')\n",
    "plt.ylabel('Error')\n",
    "plt.title('VFI w prime policy function errors')\n",
    "plt.show()"
   ]
  },
  {
   "cell_type": "code",
   "execution_count": null,
   "metadata": {},
   "outputs": [],
   "source": [
    "C_errors = optC - (1 - beta) * w_grid\n",
    "# Plot policy function approximation errors\n",
    "plt.figure()\n",
    "plt.plot(w_grid[1:], C_errors[1:])\n",
    "plt.xlabel('Size of Cake')\n",
    "plt.ylabel('Error')\n",
    "plt.title('VFI consumption policy function errors')\n",
    "plt.show()"
   ]
  },
  {
   "cell_type": "code",
   "execution_count": null,
   "metadata": {},
   "outputs": [],
   "source": [
    "# Compute true value function if u(c)=log(c)\n",
    "B = 1 / (1 - beta)\n",
    "A = B * np.log(1 - beta) + B * B * beta * np.log(R * beta)\n",
    "true_VF = A + B * np.log(w_grid)\n",
    "VF_errors = VF - true_VF\n",
    "# Plot value function approximation errors\n",
    "plt.figure()\n",
    "plt.plot(w_grid[1:], VF_errors[1:])\n",
    "plt.xlabel('Size of Cake')\n",
    "plt.ylabel('Error')\n",
    "plt.title('Value function errors')\n",
    "plt.show()"
   ]
  },
  {
   "cell_type": "code",
   "execution_count": null,
   "metadata": {},
   "outputs": [],
   "source": [
    "# Plot true and found value functions\n",
    "plt.figure()\n",
    "plt.plot(w_grid[1:], VF[1:], label='Approximated VF')\n",
    "plt.plot(w_grid[1:], true_VF[1:], label='True VF')\n",
    "plt.xlabel('Size of Cake')\n",
    "plt.ylabel('Value')\n",
    "plt.title('Value functions')\n",
    "plt.legend(loc='lower right')\n",
    "plt.show()"
   ]
  },
  {
   "cell_type": "code",
   "execution_count": null,
   "metadata": {
    "collapsed": true
   },
   "outputs": [],
   "source": []
  },
  {
   "cell_type": "code",
   "execution_count": null,
   "metadata": {
    "collapsed": true
   },
   "outputs": [],
   "source": []
  }
 ],
 "metadata": {
  "kernelspec": {
   "display_name": "Python 3",
   "language": "python",
   "name": "python3"
  },
  "language_info": {
   "codemirror_mode": {
    "name": "ipython",
    "version": 3
   },
   "file_extension": ".py",
   "mimetype": "text/x-python",
   "name": "python",
   "nbconvert_exporter": "python",
   "pygments_lexer": "ipython3",
   "version": "3.6.3"
  }
 },
 "nbformat": 4,
 "nbformat_minor": 2
}
