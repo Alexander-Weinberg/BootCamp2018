{
 "cells": [
  {
   "cell_type": "markdown",
   "metadata": {},
   "source": [
    "# Question 1"
   ]
  },
  {
   "cell_type": "code",
   "execution_count": 6,
   "metadata": {},
   "outputs": [
    {
     "data": {
      "text/plain": [
       "(6, 8, 7.0)"
      ]
     },
     "execution_count": 6,
     "metadata": {},
     "output_type": "execute_result"
    }
   ],
   "source": [
    "def prob1(L):\n",
    "    tup_L = min(L), max(L), sum(L)/len(L)\n",
    "    return tup_L\n",
    "\n",
    "L = [6, 7, 8]\n",
    "prob1(L)"
   ]
  },
  {
   "cell_type": "markdown",
   "metadata": {},
   "source": [
    "# Question 2"
   ]
  },
  {
   "cell_type": "code",
   "execution_count": 27,
   "metadata": {},
   "outputs": [
    {
     "name": "stdout",
     "output_type": "stream",
     "text": [
      "Int is mutable False\n",
      "Str is mutable False\n",
      "List is mutable True\n",
      "Tuple is mutable False\n",
      "Set is mutable True\n"
     ]
    }
   ],
   "source": [
    "objects_of_types = [int(5), \"Alex\", [1,\"hello\",5], (4,5,6), {7, 8, 9}]\n",
    "\n",
    "## Int\n",
    "a = int(5)\n",
    "b = a\n",
    "b += 7\n",
    "print('Int is mutable', str(a == b))\n",
    "    \n",
    "## Str\n",
    "a = \"Alex\"\n",
    "b = a\n",
    "b +=\"Hello Jan\"\n",
    "print('Str is mutable', str(a == b))\n",
    "\n",
    "## List\n",
    "a = [1,\"hello\",5]\n",
    "b = a\n",
    "b += [5]\n",
    "print('List is mutable', str(a == b))\n",
    "\n",
    "## Tuple\n",
    "a = (5,6)\n",
    "b = a\n",
    "b += (1,)\n",
    "print('Tuple is mutable', str(a == b))\n",
    "\n",
    "## Set\n",
    "a = {5, 6, 7}\n",
    "b = a\n",
    "b.add(99)\n",
    "print('Set is mutable', str(a == b))"
   ]
  },
  {
   "cell_type": "markdown",
   "metadata": {},
   "source": [
    "# Question 3"
   ]
  },
  {
   "cell_type": "code",
   "execution_count": 37,
   "metadata": {},
   "outputs": [
    {
     "data": {
      "text/plain": [
       "5.0"
      ]
     },
     "execution_count": 37,
     "metadata": {},
     "output_type": "execute_result"
    }
   ],
   "source": [
    "import calculator\n",
    "from math import sqrt\n",
    "\n",
    "def prob3(a,b):\n",
    "    \n",
    "    a2 = calculator.my_prod(a,a)\n",
    "    b2 = calculator.my_prod(b,b)\n",
    "    \n",
    "    c2 = calculator.my_add(a2,b2)\n",
    "    c = sqrt(c2)\n",
    "    \n",
    "    return c\n",
    "\n",
    "prob3(3,4)"
   ]
  },
  {
   "cell_type": "markdown",
   "metadata": {},
   "source": [
    "# Question 4"
   ]
  },
  {
   "cell_type": "code",
   "execution_count": 103,
   "metadata": {},
   "outputs": [
    {
     "data": {
      "text/plain": [
       "{(),\n",
       " ('a',),\n",
       " ('a', 'b'),\n",
       " ('a', 'b', 'c'),\n",
       " ('a', 'c'),\n",
       " ('b',),\n",
       " ('b', 'c'),\n",
       " ('c',)}"
      ]
     },
     "execution_count": 103,
     "metadata": {},
     "output_type": "execute_result"
    }
   ],
   "source": [
    "from itertools import combinations, chain, permutations\n",
    "\n",
    "def power_set(my_set):\n",
    "    \n",
    "    power = set()\n",
    "    for i in range(len(my_set) + 1):\n",
    "        \n",
    "        current_set = set(combinations(my_set,i))\n",
    "        power = power.union(current_set)\n",
    "\n",
    "    return power\n",
    "\n",
    "power_set('abc')"
   ]
  },
  {
   "cell_type": "markdown",
   "metadata": {},
   "source": [
    "# Question 5"
   ]
  },
  {
   "cell_type": "markdown",
   "metadata": {},
   "source": [
    "This is hard, come back to, game is kinda complicated"
   ]
  },
  {
   "cell_type": "code",
   "execution_count": null,
   "metadata": {},
   "outputs": [],
   "source": []
  }
 ],
 "metadata": {
  "kernelspec": {
   "display_name": "Python 3",
   "language": "python",
   "name": "python3"
  },
  "language_info": {
   "codemirror_mode": {
    "name": "ipython",
    "version": 3
   },
   "file_extension": ".py",
   "mimetype": "text/x-python",
   "name": "python",
   "nbconvert_exporter": "python",
   "pygments_lexer": "ipython3",
   "version": "3.6.5"
  }
 },
 "nbformat": 4,
 "nbformat_minor": 2
}
