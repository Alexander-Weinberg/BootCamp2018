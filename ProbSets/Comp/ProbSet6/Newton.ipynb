{
 "cells": [
  {
   "cell_type": "markdown",
   "metadata": {},
   "source": [
    "## Question 1"
   ]
  },
  {
   "cell_type": "markdown",
   "metadata": {},
   "source": [
    "Write a function that accepts a function f, an initial guess x0, the derivative f′, a stopping tolerance defaulting to 10−5, and a maximum number of iterations defaulting to 15. Use Newton’s method as described in (9.3) to compute a zero x ̄ of f. Terminate the algorithm when |xk − xk−1| is less than the stopping tolerance or after iterating the maximum number of allowed times. Return the last computed approximation to x ̄, a boolean value indicating whether or not the algorithm converged, and the number of iterations completed.\n",
    "Test your function against functions like f (x) = ex − 2 (see Figure 9.1) or f (x) = x4 − 3. Check that the computed zero x ̄ satisfies f(x ̄) ≈ 0. Also consider comparing your function to scipy.optimize.newton(), which accepts similar arguments."
   ]
  },
  {
   "cell_type": "code",
   "execution_count": 8,
   "metadata": {},
   "outputs": [],
   "source": [
    "import numpy as np\n",
    "import scipy.optimize as opt\n",
    "\n",
    "def newton(fun, x0, f_prime, tol=1e-5, maxiter=15):\n",
    "    \n",
    "    xold = x0\n",
    "    \n",
    "    diff = 7.0\n",
    "    its = 0\n",
    "    while diff > tol and its < maxiter:\n",
    "        xnew = xold - fun(xold) / f_prime(xold)\n",
    "        diff = np.abs(xnew - xold)\n",
    "        its += 1\n",
    "        xold = xnew\n",
    "    \n",
    "    print(\"Function completed after {} iterations\".format(its))\n",
    "    return xnew\n",
    "    "
   ]
  },
  {
   "cell_type": "code",
   "execution_count": 13,
   "metadata": {},
   "outputs": [
    {
     "name": "stdout",
     "output_type": "stream",
     "text": [
      "Function completed after 4 iterations\n",
      "My answer is:  0.6931471805600254\n",
      "Scipy's answer is:  0.6931471805599454\n"
     ]
    }
   ],
   "source": [
    "f = lambda x: np.exp(x) - 2\n",
    "f_prime = lambda x: np.exp(x)\n",
    "\n",
    "print(\"My answer is: \", newton(f,1,f_prime))\n",
    "print(\"Scipy's answer is: \", opt.newton(f, 1))"
   ]
  },
  {
   "cell_type": "markdown",
   "metadata": {},
   "source": [
    "## Question 2"
   ]
  },
  {
   "cell_type": "code",
   "execution_count": 19,
   "metadata": {},
   "outputs": [],
   "source": [
    "def interest(r):\n",
    "    P1, P2, N1, N2 = 2000, 8000, 30, 20 \n",
    "    err = P1*((1+r)**N1 - 1) - P2*(1 - (1+r) ** -N2)\n",
    "    return err    \n",
    "\n",
    "def interest_prime(r):\n",
    "    eps = 1e-6\n",
    "    P1, P2, N1, N2 = 2000, 8000, 30, 20 \n",
    "    ans = interest(r + eps) - interest(r)\n",
    "    return ans/eps"
   ]
  },
  {
   "cell_type": "code",
   "execution_count": 21,
   "metadata": {},
   "outputs": [
    {
     "name": "stdout",
     "output_type": "stream",
     "text": [
      "Function completed after 6 iterations\n",
      "Answer is correctly computed as:  0.03877843230975608\n"
     ]
    }
   ],
   "source": [
    "print(\"Answer is correctly computed as: \", newton(interest, 0.1, interest_prime))\n"
   ]
  },
  {
   "cell_type": "markdown",
   "metadata": {},
   "source": [
    "## Question 3"
   ]
  },
  {
   "cell_type": "code",
   "execution_count": 26,
   "metadata": {},
   "outputs": [],
   "source": [
    "def backtrack(fun, x0, f_prime, alpha=1, tol=1e-5, maxiter=15):\n",
    "    \n",
    "    xold = x0\n",
    "    \n",
    "    diff = 7.0\n",
    "    its = 0\n",
    "    while diff > tol and its < maxiter:\n",
    "        xnew = xold - alpha*fun(xold) / f_prime(xold)\n",
    "        diff = np.abs(xnew - xold)\n",
    "        its += 1\n",
    "        xold = xnew\n",
    "    \n",
    "    if its < maxiter:\n",
    "        print(\"Function completed after {} iterations\".format(its))\n",
    "    else:\n",
    "        print(\"Function did not converge.\")\n",
    "    return xnew"
   ]
  },
  {
   "cell_type": "code",
   "execution_count": 55,
   "metadata": {},
   "outputs": [],
   "source": [
    "f = lambda x: np.sign(x) * np.power(np.abs(x), 1./3)\n",
    "fp = lambda x: np.sign(x) * (1/3)*np.power(np.abs(x), -2./3)"
   ]
  },
  {
   "cell_type": "code",
   "execution_count": 56,
   "metadata": {},
   "outputs": [
    {
     "name": "stdout",
     "output_type": "stream",
     "text": [
      "Function did not converge.\n"
     ]
    },
    {
     "data": {
      "text/plain": [
       "-53687091.199999794"
      ]
     },
     "execution_count": 56,
     "metadata": {},
     "output_type": "execute_result"
    }
   ],
   "source": [
    "backtrack(f, 0.1, fp)"
   ]
  },
  {
   "cell_type": "code",
   "execution_count": 62,
   "metadata": {},
   "outputs": [
    {
     "name": "stdout",
     "output_type": "stream",
     "text": [
      "Function completed after 5 iterations\n"
     ]
    },
    {
     "data": {
      "text/plain": [
       "9.99999999999982e-07"
      ]
     },
     "execution_count": 62,
     "metadata": {},
     "output_type": "execute_result"
    }
   ],
   "source": [
    "backtrack(f, 0.1, fp, alpha=0.3, maxiter=10)"
   ]
  },
  {
   "cell_type": "code",
   "execution_count": 47,
   "metadata": {},
   "outputs": [],
   "source": [
    "fp = lambda x: (f(x+eps)-f(x)) / eps"
   ]
  },
  {
   "cell_type": "code",
   "execution_count": null,
   "metadata": {},
   "outputs": [],
   "source": []
  }
 ],
 "metadata": {
  "kernelspec": {
   "display_name": "Python 3",
   "language": "python",
   "name": "python3"
  },
  "language_info": {
   "codemirror_mode": {
    "name": "ipython",
    "version": 3
   },
   "file_extension": ".py",
   "mimetype": "text/x-python",
   "name": "python",
   "nbconvert_exporter": "python",
   "pygments_lexer": "ipython3",
   "version": "3.6.5"
  }
 },
 "nbformat": 4,
 "nbformat_minor": 2
}
