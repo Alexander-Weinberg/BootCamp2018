{
 "cells": [
  {
   "cell_type": "markdown",
   "metadata": {},
   "source": [
    "# Question 9"
   ]
  },
  {
   "cell_type": "code",
   "execution_count": 1,
   "metadata": {},
   "outputs": [],
   "source": [
    "import numpy as np\n",
    "import pandas as pd\n",
    "import matplotlib.pyplot as plt"
   ]
  },
  {
   "cell_type": "code",
   "execution_count": 4,
   "metadata": {},
   "outputs": [],
   "source": [
    "n_series = 14\n",
    "\n",
    "payems = pd.read_csv('payems.csv', index_col=0)\n",
    "y2k = payems.index.get_loc('1/1/00')  # Century change\n",
    "payems_before = payems[:y2k]\n",
    "payems_after = payems[y2k:]\n",
    "\n",
    "# Functions for modifying dates\n",
    "repl_1 = lambda s: '19' + s.group(0)\n",
    "repl_2 = lambda s: '20' + s.group(0)\n",
    "\n",
    "# Replace dates with full years to prevent pandas interpreting as wrong century\n",
    "payems_before.index = payems_before.index.str.replace('(\\d\\d)$', repl_1)\n",
    "payems_after.index = payems_after.index.str.replace('(\\d\\d)$', repl_2)\n",
    "payems = pd.concat([payems_before, payems_after])\n",
    "payems.index = pd.to_datetime(payems.index)"
   ]
  },
  {
   "cell_type": "code",
   "execution_count": 5,
   "metadata": {},
   "outputs": [],
   "source": [
    "payems = payems.resample('MS').ffill()  # Resample for monthly data"
   ]
  },
  {
   "cell_type": "code",
   "execution_count": 6,
   "metadata": {},
   "outputs": [
    {
     "ename": "ModuleNotFoundError",
     "evalue": "No module named 'fredapi'",
     "output_type": "error",
     "traceback": [
      "\u001b[0;31m-------------------------------------------------------------------------\u001b[0m",
      "\u001b[0;31mModuleNotFoundError\u001b[0m                     Traceback (most recent call last)",
      "\u001b[0;32m<ipython-input-6-141a724bae99>\u001b[0m in \u001b[0;36m<module>\u001b[0;34m()\u001b[0m\n\u001b[0;32m----> 1\u001b[0;31m \u001b[0;32mfrom\u001b[0m \u001b[0mfredapi\u001b[0m \u001b[0;32mimport\u001b[0m \u001b[0mFred\u001b[0m\u001b[0;34m\u001b[0m\u001b[0m\n\u001b[0m\u001b[1;32m      2\u001b[0m \u001b[0mfred\u001b[0m \u001b[0;34m=\u001b[0m \u001b[0mFred\u001b[0m\u001b[0;34m(\u001b[0m\u001b[0mapi_key\u001b[0m\u001b[0;34m=\u001b[0m\u001b[0;34m'16fc433e0cb217bb8cb94bf76b981f2f'\u001b[0m\u001b[0;34m)\u001b[0m \u001b[0;31m# Need to register for API key\u001b[0m\u001b[0;34m\u001b[0m\u001b[0m\n\u001b[1;32m      3\u001b[0m \u001b[0;34m\u001b[0m\u001b[0m\n\u001b[1;32m      4\u001b[0m \u001b[0;31m# Fetch NBER recessions data\u001b[0m\u001b[0;34m\u001b[0m\u001b[0;34m\u001b[0m\u001b[0m\n\u001b[1;32m      5\u001b[0m \u001b[0mindicator\u001b[0m \u001b[0;34m=\u001b[0m \u001b[0mfred\u001b[0m\u001b[0;34m.\u001b[0m\u001b[0mget_series\u001b[0m\u001b[0;34m(\u001b[0m\u001b[0;34m'USREC'\u001b[0m\u001b[0;34m)\u001b[0m\u001b[0;34m\u001b[0m\u001b[0m\n",
      "\u001b[0;31mModuleNotFoundError\u001b[0m: No module named 'fredapi'"
     ]
    }
   ],
   "source": [
    "from fredapi import Fred\n",
    "fred = Fred(api_key='16fc433e0cb217bb8cb94bf76b981f2f') # Need to register for API key\n",
    "\n",
    "# Fetch NBER recessions data\n",
    "indicator = fred.get_series('USREC')\n",
    "\n",
    "# Find points of change\n",
    "diff = indicator.diff()\n",
    "\n",
    "# Find dates where recession started\n",
    "peak_dates = diff[diff == 1][-n_series:].index"
   ]
  },
  {
   "cell_type": "code",
   "execution_count": null,
   "metadata": {},
   "outputs": [],
   "source": []
  }
 ],
 "metadata": {
  "kernelspec": {
   "display_name": "Python 3",
   "language": "python",
   "name": "python3"
  },
  "language_info": {
   "codemirror_mode": {
    "name": "ipython",
    "version": 3
   },
   "file_extension": ".py",
   "mimetype": "text/x-python",
   "name": "python",
   "nbconvert_exporter": "python",
   "pygments_lexer": "ipython3",
   "version": "3.6.5"
  }
 },
 "nbformat": 4,
 "nbformat_minor": 2
}
