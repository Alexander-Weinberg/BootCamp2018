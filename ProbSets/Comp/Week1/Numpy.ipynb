{
 "cells": [
  {
   "cell_type": "markdown",
   "metadata": {},
   "source": [
    "NumPy Lab\n",
    "Alex Weinberg"
   ]
  },
  {
   "cell_type": "markdown",
   "metadata": {},
   "source": [
    "# Question 1"
   ]
  },
  {
   "cell_type": "code",
   "execution_count": 1,
   "metadata": {},
   "outputs": [
    {
     "data": {
      "text/plain": [
       "array([[ 37,  14, -32, -10],\n",
       "       [-54,  -7,  58,  65]])"
      ]
     },
     "execution_count": 1,
     "metadata": {},
     "output_type": "execute_result"
    }
   ],
   "source": [
    "import numpy as np\n",
    "\n",
    "A = np.array( [ [3, -1, 4 ],[1, 5 ,-9] ])\n",
    "B = np.array( [ [2, 6, -5, 3],[5, -8, 9, 7], [9, -3, -2, -3]] )\n",
    "\n",
    "np.dot(A,B)"
   ]
  },
  {
   "cell_type": "markdown",
   "metadata": {},
   "source": [
    "# Question 2"
   ]
  },
  {
   "cell_type": "code",
   "execution_count": 7,
   "metadata": {},
   "outputs": [
    {
     "data": {
      "text/plain": [
       "array([[0, 0, 0],\n",
       "       [0, 0, 0],\n",
       "       [0, 0, 0]])"
      ]
     },
     "execution_count": 7,
     "metadata": {},
     "output_type": "execute_result"
    }
   ],
   "source": [
    "A = np.array([ [3, 1, 4], [ 1, 5, 9], [-5, 3, 1] ])\n",
    "a2 = np.dot(A,A)\n",
    "\n",
    "result = (-1) * (np.dot(a2,A)) + 9*(np.dot(A,A)) - 15*A\n",
    "result"
   ]
  },
  {
   "cell_type": "markdown",
   "metadata": {},
   "source": [
    "# Question 3"
   ]
  },
  {
   "cell_type": "code",
   "execution_count": 22,
   "metadata": {},
   "outputs": [
    {
     "data": {
      "text/plain": [
       "array([[ -7,  -8,  -3,   8,  25,  48,  77],\n",
       "       [ -6, -12, -12,  -6,   6,  24,  48],\n",
       "       [ -5, -10, -15, -14,  -7,   6,  25],\n",
       "       [ -4,  -8, -12, -16, -14,  -6,   8],\n",
       "       [ -3,  -6,  -9, -12, -15, -12,  -3],\n",
       "       [ -2,  -4,  -6,  -8, -10, -12,  -8],\n",
       "       [ -1,  -2,  -3,  -4,  -5,  -6,  -7]])"
      ]
     },
     "execution_count": 22,
     "metadata": {},
     "output_type": "execute_result"
    }
   ],
   "source": [
    "aux = np.ones( (7,7))\n",
    "A = np.triu(A)\n",
    "\n",
    "aux2 = -1 * np.ones( (7,7))\n",
    "aux3 = 5 * np.ones( (7,7))\n",
    "\n",
    "B = np.tril(aux2) + np.triu(aux3) + ((-5) * np.eye(7) )\n",
    "\n",
    "result = A @ B @ A\n",
    "result = result.astype(np.int64)"
   ]
  },
  {
   "cell_type": "markdown",
   "metadata": {},
   "source": [
    "# Question 4"
   ]
  },
  {
   "cell_type": "code",
   "execution_count": 24,
   "metadata": {},
   "outputs": [
    {
     "data": {
      "text/plain": [
       "array([5, 0, 4])"
      ]
     },
     "execution_count": 24,
     "metadata": {},
     "output_type": "execute_result"
    }
   ],
   "source": [
    "def problem4(arr):\n",
    "    \n",
    "    copy_arr = np.copy(arr)\n",
    "    neg_index = copy_arr < 0\n",
    "    \n",
    "    copy_arr[neg_index] = 0\n",
    "    return copy_arr\n",
    "\n",
    "test = np.array([5, -5, 4])\n",
    "problem4(test)"
   ]
  },
  {
   "cell_type": "markdown",
   "metadata": {},
   "source": [
    "# Question 5"
   ]
  },
  {
   "cell_type": "code",
   "execution_count": 75,
   "metadata": {},
   "outputs": [
    {
     "data": {
      "text/plain": [
       "array([[ 0.,  0.,  0.,  0.,  1.,  1.,  0.,  0.],\n",
       "       [ 0.,  0.,  0.,  2.,  3.,  0.,  1.,  0.],\n",
       "       [ 0.,  0.,  0.,  4.,  5.,  0.,  0.,  1.],\n",
       "       [ 0.,  2.,  4.,  0.,  0.,  0.,  0.,  0.],\n",
       "       [ 1.,  3.,  5.,  0.,  0.,  0.,  0.,  0.],\n",
       "       [ 3.,  0.,  0.,  0.,  0., -2., -0., -0.],\n",
       "       [ 3.,  3.,  0.,  0.,  0., -0., -2., -0.],\n",
       "       [ 3.,  3.,  3.,  0.,  0., -0., -0., -2.]])"
      ]
     },
     "execution_count": 75,
     "metadata": {},
     "output_type": "execute_result"
    }
   ],
   "source": [
    "A = np.arange(6).reshape((3,2)).T\n",
    "B = np.tril( (3 * np.ones((3,3)) ))\n",
    "C = (-2) * np.eye(3)\n",
    "\n",
    "I = np.eye(3)\n",
    "\n",
    "row1 = np.column_stack((np.zeros_like(I), A.T, I))\n",
    "row2 = np.hstack((A, np.zeros((2,2)) , np.zeros_like(A)))\n",
    "row3 = np.hstack( (B, np.zeros_like(A.T), C))\n",
    "\n",
    "result = np.vstack((row1, row2, row3))\n",
    "result "
   ]
  },
  {
   "cell_type": "markdown",
   "metadata": {},
   "source": [
    "# Question 6"
   ]
  },
  {
   "cell_type": "code",
   "execution_count": 105,
   "metadata": {},
   "outputs": [
    {
     "data": {
      "text/plain": [
       "array([[0.        , 0.33333333, 0.66666667],\n",
       "       [0.25      , 0.33333333, 0.41666667],\n",
       "       [0.28571429, 0.33333333, 0.38095238]])"
      ]
     },
     "execution_count": 105,
     "metadata": {},
     "output_type": "execute_result"
    }
   ],
   "source": [
    "def prob6(mat):\n",
    "    \n",
    "    i,j = np.shape(mat)\n",
    "    sums = mat.sum(axis=1).reshape((j,1))\n",
    "    result = mat / sums\n",
    "    \n",
    "    return result\n",
    "\n",
    "test = np.arange(9).reshape((3,3))\n",
    "prob6(test)\n"
   ]
  },
  {
   "cell_type": "markdown",
   "metadata": {},
   "source": [
    "# Question 7\n",
    "This is hard, come back to"
   ]
  },
  {
   "cell_type": "code",
   "execution_count": 2,
   "metadata": {},
   "outputs": [],
   "source": [
    "def p7():\n",
    "    grid=np.load('/Users/alexweinberg/Desktop/BootCamp2018/ProbSets/Comp/Week1/grid.npy')\n",
    "    hmax= np.max(grid[:,:-3] * grid[:,1:-2] * grid[:,2:-1] * grid[:,3:])\n",
    "    vmax= np.max(grid[:-3,:] * grid[1:-2, :] * grid[2:-1, :] * grid[3:,:])\n",
    "    drmax= np.max(grid[:-3, :-3]*grid[1:-2, 1:-2]*grid[2:-1, 2:-1]*grid[3:, 3:])\n",
    "    lrmax= np.max(grid[3:, :-3]*grid[2:-1, 1:-2]*grid[1:-2, 2:-1]*grid[:-3, 3:])\n",
    "    print(hmax)\n",
    "    print(vmax)\n",
    "    print(drmax)\n",
    "    print(lrmax)\n",
    "    return\n",
    "# copied from tim "
   ]
  },
  {
   "cell_type": "code",
   "execution_count": null,
   "metadata": {},
   "outputs": [],
   "source": []
  }
 ],
 "metadata": {
  "kernelspec": {
   "display_name": "Python 3",
   "language": "python",
   "name": "python3"
  },
  "language_info": {
   "codemirror_mode": {
    "name": "ipython",
    "version": 3
   },
   "file_extension": ".py",
   "mimetype": "text/x-python",
   "name": "python",
   "nbconvert_exporter": "python",
   "pygments_lexer": "ipython3",
   "version": "3.6.5"
  }
 },
 "nbformat": 4,
 "nbformat_minor": 2
}
