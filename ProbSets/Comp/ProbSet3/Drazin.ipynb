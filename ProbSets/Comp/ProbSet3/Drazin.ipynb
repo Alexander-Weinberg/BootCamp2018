{
 "cells": [
  {
   "cell_type": "markdown",
   "metadata": {},
   "source": [
    "# Question 1"
   ]
  },
  {
   "cell_type": "code",
   "execution_count": 34,
   "metadata": {},
   "outputs": [],
   "source": [
    "import numpy as np\n",
    "import scipy.linalg as la"
   ]
  },
  {
   "cell_type": "code",
   "execution_count": 35,
   "metadata": {},
   "outputs": [],
   "source": [
    "def isDrazin(A, Ad, k):\n",
    "    \n",
    "    if not np.allclose(A @ Ad, Ad @ A):\n",
    "        return False\n",
    "    \n",
    "    if not np.allclose(np.linalg.matrix_power(A, k+1) @ Ad, np.linalg.matrix_power(A, k)):\n",
    "        return False\n",
    "    \n",
    "    if not np.allclose(Ad @ A @ Ad, Ad):\n",
    "        return False\n",
    "    \n",
    "    else:\n",
    "        return True"
   ]
  },
  {
   "cell_type": "code",
   "execution_count": 36,
   "metadata": {},
   "outputs": [
    {
     "data": {
      "text/plain": [
       "True"
      ]
     },
     "execution_count": 36,
     "metadata": {},
     "output_type": "execute_result"
    }
   ],
   "source": [
    "A = np.array([[1, 3, 0, 0],\n",
    "             [0, 1, 3, 0],\n",
    "             [0, 0, 1, 3],\n",
    "             [0, 0, 0 ,0]])\n",
    "Ad = np.array([ [1, -3, 9, 81],\n",
    "               [0, 1 , -3, -18],\n",
    "               [0, 0, 1, 3],\n",
    "               [0, 0, 0, 0]\n",
    "              ])\n",
    "\n",
    "B = np.array([[1, 1, 3],\n",
    "             [5, 2, 6],\n",
    "             [-2, -1, -3]])\n",
    "\n",
    "Bd = np.array([[0, 0, 0],\n",
    "             [0, 0, 0],\n",
    "             [0, 0, 0]])\n",
    "isDrazin(B,Bd,k=3)"
   ]
  },
  {
   "cell_type": "markdown",
   "metadata": {},
   "source": [
    "# Question 2"
   ]
  },
  {
   "cell_type": "code",
   "execution_count": 61,
   "metadata": {},
   "outputs": [],
   "source": [
    "def drazin(A, tol=1e-5):\n",
    "    n,n = A.shape\n",
    "    sort1 = lambda x: np.absolute(x) > tol\n",
    "    sort2 = lambda x: np.absolute(x) <= tol\n",
    "    \n",
    "    Q1, S, k1 = la.schur(A, sort=sort1)\n",
    "    Q2, T, k2 = la.schur(A, sort=sort2)\n",
    "    \n",
    "    U = np.column_stack((S[:,:k1], T[:,:n-k1]))\n",
    "    Uinv = la.inv(U)\n",
    "    V = Uinv @ A @ U\n",
    "    Z = np.zeros((n,n), dtype=float)\n",
    "    \n",
    "    if k1 != 0:\n",
    "        Minv = la.inv(V[:k1, :k1])\n",
    "        Z[:k1,:k1] = Minv\n",
    "    \n",
    "    \n",
    "    return U @ Z @ Uinv\n",
    "    "
   ]
  },
  {
   "cell_type": "code",
   "execution_count": 64,
   "metadata": {},
   "outputs": [
    {
     "data": {
      "text/plain": [
       "True"
      ]
     },
     "execution_count": 64,
     "metadata": {},
     "output_type": "execute_result"
    }
   ],
   "source": [
    "A = np.random.random((5,5))\n",
    "Ad = drazin(A)\n",
    "\n",
    "isDrazin(A,Ad,1)"
   ]
  },
  {
   "cell_type": "markdown",
   "metadata": {},
   "source": [
    "# Question 3"
   ]
  },
  {
   "cell_type": "code",
   "execution_count": null,
   "metadata": {},
   "outputs": [],
   "source": [
    "def resist(A):\n",
    "    \"\"\"\n",
    "    Accepts adjacency graph. \n",
    "    \"\"\""
   ]
  }
 ],
 "metadata": {
  "kernelspec": {
   "display_name": "Python 3",
   "language": "python",
   "name": "python3"
  },
  "language_info": {
   "codemirror_mode": {
    "name": "ipython",
    "version": 3
   },
   "file_extension": ".py",
   "mimetype": "text/x-python",
   "name": "python",
   "nbconvert_exporter": "python",
   "pygments_lexer": "ipython3",
   "version": "3.6.5"
  }
 },
 "nbformat": 4,
 "nbformat_minor": 2
}
