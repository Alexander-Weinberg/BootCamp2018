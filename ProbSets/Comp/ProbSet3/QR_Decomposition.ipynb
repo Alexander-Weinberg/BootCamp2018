{
 "cells": [
  {
   "cell_type": "markdown",
   "metadata": {},
   "source": [
    "# Question 1"
   ]
  },
  {
   "cell_type": "code",
   "execution_count": 74,
   "metadata": {},
   "outputs": [],
   "source": [
    "import numpy as np\n",
    "import scipy.linalg as la"
   ]
  },
  {
   "cell_type": "code",
   "execution_count": 99,
   "metadata": {},
   "outputs": [],
   "source": [
    "def qr_decompose(A):\n",
    "    \n",
    "    m,n = A.shape\n",
    "    Q = np.copy(A)\n",
    "    R = np.zeros((n,n))\n",
    "    \n",
    "    for i in range(n):\n",
    "        R[i,i] = la.norm(Q[:,i])\n",
    "        Q[:,i] = Q[:,i] / R[i,i]\n",
    "        for j in range(i+1,n):\n",
    "            R[i,j] = Q[:,j].T @ Q[:,i]\n",
    "            Q[:,j] = Q[:,j] - R[i,j]*Q[:,i]\n",
    "    \n",
    "    return Q,R"
   ]
  },
  {
   "cell_type": "code",
   "execution_count": 121,
   "metadata": {},
   "outputs": [],
   "source": [
    "# Test\n",
    "A = np.random.random((6,4))\n",
    "Q, R = qr_decompose(A)\n",
    "\n",
    "np.allclose(np.triu(R),R)\n",
    "np.allclose(Q.T @ Q, np.identity(4))\n",
    "np.allclose(Q @ R, A)\n",
    "\n",
    "Q,R = la.qr(A, mode='economic')"
   ]
  },
  {
   "cell_type": "markdown",
   "metadata": {},
   "source": [
    "# Question 2"
   ]
  },
  {
   "cell_type": "code",
   "execution_count": 122,
   "metadata": {},
   "outputs": [],
   "source": [
    "def abs_det(A):\n",
    "    Q,R = qr_decompose(A)\n",
    "    det = np.absolute(np.diag(R).prod())\n",
    "    return det\n",
    "    "
   ]
  },
  {
   "cell_type": "code",
   "execution_count": 127,
   "metadata": {},
   "outputs": [
    {
     "data": {
      "text/plain": [
       "-2.0816681711721685e-17"
      ]
     },
     "execution_count": 127,
     "metadata": {},
     "output_type": "execute_result"
    }
   ],
   "source": [
    "# test\n",
    "A = np.random.random((6,6))\n",
    "la.det(A) - abs_det(A)"
   ]
  },
  {
   "cell_type": "markdown",
   "metadata": {},
   "source": [
    "# Question 3"
   ]
  },
  {
   "cell_type": "code",
   "execution_count": 163,
   "metadata": {},
   "outputs": [],
   "source": [
    "def solve_Linear(A, b):\n",
    "    m,n = A.shape\n",
    "    if len(b) != n or len(b) != m or m != n:\n",
    "        raise ValueError('A must be nxn matrix and b an nx1 vector')\n",
    "    if np.linalg.matrix_rank(A) != n:\n",
    "        raise ValueError('A must be invertible')\n",
    "    \n",
    "    Q,R = qr_decompose(A)\n",
    "    y = Q.T @ b\n",
    "    x = la.inv(R) @ y\n",
    "    return x"
   ]
  },
  {
   "cell_type": "markdown",
   "metadata": {},
   "source": [
    "# Question 4"
   ]
  },
  {
   "cell_type": "code",
   "execution_count": 218,
   "metadata": {},
   "outputs": [],
   "source": [
    "def householder(A):\n",
    "    sign = lambda x: 1 if x>- 0 else -1\n",
    "    \n",
    "    m,n = A.shape\n",
    "    R = np.copy(A)\n",
    "    Q = np.eye(m)\n",
    "    \n",
    "    for k in range(n):\n",
    "        u = np.copy(R[k:,k])\n",
    "        u[0] = u[0] + sign(u[0]) * la.norm(u)\n",
    "        u = u / la.norm(u)\n",
    "        R[k:,k:] = R[k:,k:] - 2 * np.outer(u, (u.T @ R[k:,k:])) # apply reflection to R\n",
    "        Q[k:,:] = Q[k:,:] - 2 * np.outer(u,(u.T @ Q[k:,:])) # apply reflection to Q\n",
    "        \n",
    "    return Q.T, R"
   ]
  },
  {
   "cell_type": "code",
   "execution_count": 220,
   "metadata": {},
   "outputs": [
    {
     "name": "stdout",
     "output_type": "stream",
     "text": [
      "(5, 3) (5, 5) (5, 3)\n"
     ]
    },
    {
     "data": {
      "text/plain": [
       "True"
      ]
     },
     "execution_count": 220,
     "metadata": {},
     "output_type": "execute_result"
    }
   ],
   "source": [
    "# test\n",
    "A = np.random.random((5,3))\n",
    "Q,R = householder(A)\n",
    "print(A.shape, Q.shape, R.shape)\n",
    "np.allclose(Q @ R, A)"
   ]
  },
  {
   "cell_type": "markdown",
   "metadata": {},
   "source": [
    "# Question 5"
   ]
  },
  {
   "cell_type": "code",
   "execution_count": 247,
   "metadata": {},
   "outputs": [],
   "source": [
    "def Hessenberg(A):\n",
    "    sign = lambda x: 1 if x>- 0 else -1\n",
    "    \n",
    "    m,n = A.shape\n",
    "    H = np.copy(A)\n",
    "    Q = np.eye(m)\n",
    "    for k in range(n-2):\n",
    "        u = np.copy(H[k+1:,k])\n",
    "        u[0] = u[0] + sign(u[0]) * la.norm(u)\n",
    "        u = u / la.norm(u)\n",
    "        H[k+1:,k:] = H[k+1:,k:] - 2 * np.outer(u, u.T @ H[k+1:,k:])\n",
    "        H[:,k+1:] = H[:,k+1:] - 2 * np.outer(H[:,k+1:] @ u, u.T)\n",
    "        Q[k+1:,:] = Q[k+1:,:] - 2 * np.outer(u, u.T @ Q[k+1:,:])\n",
    "        \n",
    "    return H,Q"
   ]
  },
  {
   "cell_type": "code",
   "execution_count": 248,
   "metadata": {},
   "outputs": [],
   "source": [
    "A = np.random.random((8,8))\n",
    "#H,Q = la.hessenberg(A, calc_q=True)\n",
    "\n",
    "H,Q = Hessenberg(A)"
   ]
  },
  {
   "cell_type": "code",
   "execution_count": 249,
   "metadata": {},
   "outputs": [
    {
     "data": {
      "text/plain": [
       "True"
      ]
     },
     "execution_count": 249,
     "metadata": {},
     "output_type": "execute_result"
    }
   ],
   "source": [
    "np.allclose(np.triu(H,-1), H)"
   ]
  },
  {
   "cell_type": "code",
   "execution_count": 250,
   "metadata": {},
   "outputs": [
    {
     "data": {
      "text/plain": [
       "False"
      ]
     },
     "execution_count": 250,
     "metadata": {},
     "output_type": "execute_result"
    }
   ],
   "source": [
    "np.allclose(Q @ H @ Q.T, A)"
   ]
  },
  {
   "cell_type": "code",
   "execution_count": null,
   "metadata": {},
   "outputs": [],
   "source": []
  },
  {
   "cell_type": "code",
   "execution_count": null,
   "metadata": {},
   "outputs": [],
   "source": []
  }
 ],
 "metadata": {
  "kernelspec": {
   "display_name": "Python 3",
   "language": "python",
   "name": "python3"
  },
  "language_info": {
   "codemirror_mode": {
    "name": "ipython",
    "version": 3
   },
   "file_extension": ".py",
   "mimetype": "text/x-python",
   "name": "python",
   "nbconvert_exporter": "python",
   "pygments_lexer": "ipython3",
   "version": "3.6.5"
  }
 },
 "nbformat": 4,
 "nbformat_minor": 2
}
