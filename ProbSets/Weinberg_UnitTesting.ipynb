{
 "cells": [
  {
   "cell_type": "markdown",
   "metadata": {},
   "source": [
    "# Question 1"
   ]
  },
  {
   "cell_type": "code",
   "execution_count": 50,
   "metadata": {},
   "outputs": [],
   "source": [
    "def smallest_factor(n):\n",
    "    \"\"\"Return the smallest prime factor of the positive integer n.\"\"\"\n",
    "    if n == 1: return 1\n",
    "    for i in range(2, int(n**.5)):\n",
    "        if n % i == 0: return i\n",
    "    return n\n",
    "\n",
    "def test_smallest_factor():\n",
    "    assert smallest_factor(4) == 2, 'Range is too small'\n",
    "    assert smallest_factor(6) == 2, 'Range is too small'\n",
    "    assert smallest_factor(8) == 2, 'Range is too small'\n",
    "\n",
    "# test_smallest_factor()    \n",
    "\n",
    "def better_smallest_factor(n):\n",
    "    \"\"\"Return the smallest prime factor of the positive integer n.\n",
    "    But added plus 1 in the range\n",
    "    \"\"\"\n",
    "    if n == 1: return 1\n",
    "    for i in range(2, int(n**.5) + 1):\n",
    "        if n % i == 0: return i\n",
    "    return n"
   ]
  },
  {
   "cell_type": "code",
   "execution_count": 26,
   "metadata": {},
   "outputs": [],
   "source": []
  },
  {
   "cell_type": "code",
   "execution_count": null,
   "metadata": {},
   "outputs": [],
   "source": []
  }
 ],
 "metadata": {
  "kernelspec": {
   "display_name": "Python 3",
   "language": "python",
   "name": "python3"
  },
  "language_info": {
   "codemirror_mode": {
    "name": "ipython",
    "version": 3
   },
   "file_extension": ".py",
   "mimetype": "text/x-python",
   "name": "python",
   "nbconvert_exporter": "python",
   "pygments_lexer": "ipython3",
   "version": "3.6.5"
  }
 },
 "nbformat": 4,
 "nbformat_minor": 2
}
