{
 "cells": [
  {
   "cell_type": "markdown",
   "metadata": {},
   "source": [
    "# Lucas Tree"
   ]
  },
  {
   "cell_type": "markdown",
   "metadata": {},
   "source": [
    "## Question 1"
   ]
  },
  {
   "cell_type": "code",
   "execution_count": null,
   "metadata": {},
   "outputs": [],
   "source": [
    "import pickle\n",
    "import datetime\n",
    "\n",
    "import numpy as np\n",
    "import pandas as pd\n",
    "import matplotlib.pyplot as plt\n",
    "import scipy.optimize as opt\n",
    "import scipy.stats as sts\n",
    "\n",
    "import pandas_datareader.data as web"
   ]
  },
  {
   "cell_type": "code",
   "execution_count": null,
   "metadata": {},
   "outputs": [],
   "source": [
    "start = datetime.datetime(1972, 1, 1)\n",
    "end = datetime.datetime(2010, 12, 31)\n",
    "\n",
    "consumption = web.DataReader('PCECC96', 'fred', start, end) \n",
    "market = web.DataReader('WILL5000INDFC', 'fred', start, end) \n",
    "t_bill = web.DataReader('TB3MS', 'fred', start, end)         \n",
    "deflator = web.DataReader('GDPDEF', 'fred', start, end)      \n",
    "\n",
    "\n",
    "df = pd.concat([consumption, market, deflator, t_bill], sort=True)\n",
    "df = df.groupby(pd.PeriodIndex(df.index, freq='Q'), axis=0).mean() # convert to quarterly\n",
    "\n",
    "df.columns = ['consumption', 'market', 'deflator', 't_bill']\n",
    "df['rMarket'] = df.market / (df.deflator*100)\n",
    "df['rTbill'] = df.t_bill / (df.deflator*100)\n",
    "\n",
    "\n",
    "### not sure how to deflate tbill\n",
    "df.head()"
   ]
  },
  {
   "cell_type": "markdown",
   "metadata": {},
   "source": [
    "Assume that 𝛽 = 0.99 (since this is quarterly data, this implies an annual risk- free rate of about 4%). Calculate empirical analogs of the expected values and covariance in (5). Using scipy.optimize.broyden1, solve for the value of 𝛾 that leads to equation (5) holding.\n"
   ]
  },
  {
   "cell_type": "code",
   "execution_count": null,
   "metadata": {},
   "outputs": [],
   "source": [
    "class GMM_Lucas( object ):   \n",
    "    def __init__(self, data=df, options='q3'):\n",
    "        \n",
    "        self.data = data\n",
    "        self.options = options\n",
    "                \n",
    "        R = self.data.rMarket / self.data.rMarket.shift(1)\n",
    "        self.R = R.dropna()\n",
    "        \n",
    "    def estimate_m(self, gamma, beta):\n",
    "        ratio = self.data.consumption / self.data.consumption.shift(1)\n",
    "        \n",
    "        MUC = ratio ** -gamma     \n",
    "        m = beta * MUC\n",
    "        return m[1:]\n",
    " \n",
    "    def objective(self, params):\n",
    "        if params.size == 1:\n",
    "            gamma = params\n",
    "            beta = 0.99\n",
    "            \n",
    "        if self.options == 'q1':\n",
    "            m = self.estimate_m(gamma, beta)\n",
    "            cov = np.cov(m, self.R)[0,1]              # var/cov matrix, take COV\n",
    "            error = cov + m.mean() * self.R.mean() - 1\n",
    "            return error\n",
    "        \n",
    "        elif self.options == 'q3':        \n",
    "            m = self.estimate_m(gamma, beta)\n",
    "            exp = self.R * m\n",
    "            error = exp.mean() - 1\n",
    "            return error\n",
    "        \n",
    "        elif self.options == 'q4':\n",
    "            beta, gamma = params\n",
    "            m = self.estimate_m(gamma, beta)\n",
    "            cov = np.cov(m, self.R)[0,1]\n",
    "            err1 = cov + m.mean() * self.R.mean() - 1\n",
    "\n",
    "            exp = self.R * m\n",
    "            err2 = exp.mean() - 1\n",
    "            \n",
    "            e = np.array([err1, err2])\n",
    "            return e.T @ np.eye(2) @ e\n",
    "\n",
    "                   \n",
    "    def estimate_gamma(self):\n",
    "        if self.options == 'q4':\n",
    "            xguess = np.ones(2)\n",
    "            result = opt.minimize(self.objective, xguess)\n",
    "        else:\n",
    "            xguess = np.ones(1)\n",
    "            ### Non=linear solver gets very different answer to Natasha, come back\n",
    "            result = opt.broyden1(self.objective, xguess)\n",
    "        return result\n",
    "    \n",
    "    def plot(self):\n",
    "        n = 60\n",
    "        N = 5\n",
    "        γ_grid = np.linspace(0, 5, n)\n",
    "        β_grid = np.linspace(0.95, 0.99, N)\n",
    "\n",
    "        cons = self.data.rMarket\n",
    "        tbill = self.data.rTbill\n",
    "\n",
    "        gmm_values = np.empty((n, N))\n",
    "        for i in range(n):\n",
    "            for j in range(N):\n",
    "                param = np.array( [ γ_grid[i], β_grid[j] ])\n",
    "                gmm_values[i, j] = self.objective(param)\n",
    "                \n",
    "        plt.figure(figsize=(10, 8))\n",
    "        for j in range(N):\n",
    "            plt.plot(γ_grid, gmm_values[:, j], label=f'{β_grid[j]:.2f}')\n",
    "        plt.title('Value of GMM objective function')\n",
    "        plt.xlabel('$\\gamma$')\n",
    "        plt.legend()\n",
    "        plt.show()"
   ]
  },
  {
   "cell_type": "code",
   "execution_count": null,
   "metadata": {},
   "outputs": [],
   "source": [
    "Question1 = GMM_Lucas(data=df, options='q1')\n",
    "print(\"Gamma = \",Question1.estimate_gamma())"
   ]
  },
  {
   "cell_type": "markdown",
   "metadata": {},
   "source": [
    "## Question 2"
   ]
  },
  {
   "cell_type": "markdown",
   "metadata": {},
   "source": [
    "I would want to try this on a different data set or a different subset of our data to see if gamma is robust to different specifications. I would also check to see whether or not using a different equation to estimate yields the same results. "
   ]
  },
  {
   "cell_type": "markdown",
   "metadata": {},
   "source": [
    "## Question 3"
   ]
  },
  {
   "cell_type": "code",
   "execution_count": null,
   "metadata": {},
   "outputs": [],
   "source": [
    "Question3 = GMM_Lucas(data=df, options='q3')\n",
    "print(\"Gamma = \",Question3.estimate_gamma())"
   ]
  },
  {
   "cell_type": "markdown",
   "metadata": {},
   "source": [
    "## Question 4"
   ]
  },
  {
   "cell_type": "code",
   "execution_count": null,
   "metadata": {},
   "outputs": [],
   "source": [
    "Question4 = GMM_Lucas(data=df, options='q4')\n",
    "ans = Question4.estimate_gamma().x\n",
    "print(\"Beta  = \", ans[0], \"\\nGamma = \", ans[1])\n",
    "\n",
    "print(\"\\nThis is super interesting. When I allow beta to fluctuate, this provides a much lower value gamma because\"\n",
    "     + \" beta can explain some of the savings. \")\n",
    "\n",
    "Question4.plot()"
   ]
  },
  {
   "cell_type": "markdown",
   "metadata": {},
   "source": [
    "# Kyle Model"
   ]
  },
  {
   "cell_type": "markdown",
   "metadata": {},
   "source": [
    "## Question 1"
   ]
  },
  {
   "cell_type": "code",
   "execution_count": null,
   "metadata": {},
   "outputs": [],
   "source": [
    "spy = pickle.load(open('data/SPY', 'rb'))\n",
    "tho = pickle.load(open('data/THO', 'rb'))\n",
    "gbx = pickle.load(open('data/GBX', 'rb'))\n",
    "aapl = pickle.load(open('data/AAPL', 'rb'))\n",
    "C = pickle.load(open('data/C', 'rb'))"
   ]
  },
  {
   "cell_type": "code",
   "execution_count": null,
   "metadata": {},
   "outputs": [],
   "source": [
    "class OrderBook(object):\n",
    "    def __init__(self, data, name=None):\n",
    "        self.name = name\n",
    "        self.time = data[0]\n",
    "        self.order = self.clean_orderbook(data[1])\n",
    "        \n",
    "        self.prices = np.array(list(self.order.keys()))\n",
    "        self.quant = np.array(list(self.order.values()))\n",
    "    \n",
    "    def clean_orderbook(self,data):\n",
    "        clean = {ii: jj[0] for ii,jj in data.items()}\n",
    "        return clean\n",
    "        \n",
    "    def regress(self):\n",
    "        \n",
    "        beta_hat, gamma_hat, r, p, stderr = sts.linregress(self.prices, self.quant)\n",
    "        self.beta = beta_hat\n",
    "        self.gamma = gamma_hat\n",
    "        return beta_hat, gamma_hat\n",
    "    \n",
    "    def plot(self):\n",
    "        self.regress()\n",
    "        domain = np.linspace(-100,2500,1000)\n",
    "        \n",
    "        fig, ax = plt.subplots(1,1, figsize=(8,6))\n",
    "        plt.scatter(self.prices, self.quant, alpha=0.6, label='Data Points')\n",
    "        plt.plot(domain, self.gamma + self.beta*domain, 'r--', label=\"Estimate\")\n",
    "        plt.title(self.name)\n",
    "        plt.xlabel(\"Price\")\n",
    "        plt.ylabel(\"Quantity\")\n",
    "        plt.xlim(xmin=-100, xmax=2500)\n",
    "        plt.legend()\n",
    "        plt.show()"
   ]
  },
  {
   "cell_type": "code",
   "execution_count": null,
   "metadata": {},
   "outputs": [],
   "source": [
    "stocks = [spy, tho, gbx, aapl, C]\n",
    "timeOday = [0, -1, 150]\n",
    "\n",
    "books = []\n",
    "\n",
    "for stock in stocks:\n",
    "    for time in timeOday:\n",
    "        books.append(OrderBook(stock[time], '{}-{}'.format(stock,time)))"
   ]
  },
  {
   "cell_type": "code",
   "execution_count": null,
   "metadata": {},
   "outputs": [],
   "source": [
    "books[-1].plot()"
   ]
  },
  {
   "cell_type": "code",
   "execution_count": null,
   "metadata": {},
   "outputs": [],
   "source": []
  },
  {
   "cell_type": "code",
   "execution_count": null,
   "metadata": {},
   "outputs": [],
   "source": []
  },
  {
   "cell_type": "code",
   "execution_count": null,
   "metadata": {},
   "outputs": [],
   "source": []
  },
  {
   "cell_type": "code",
   "execution_count": null,
   "metadata": {},
   "outputs": [],
   "source": []
  }
 ],
 "metadata": {
  "kernelspec": {
   "display_name": "Python 3",
   "language": "python",
   "name": "python3"
  },
  "language_info": {
   "codemirror_mode": {
    "name": "ipython",
    "version": 3
   },
   "file_extension": ".py",
   "mimetype": "text/x-python",
   "name": "python",
   "nbconvert_exporter": "python",
   "pygments_lexer": "ipython3",
   "version": "3.6.5"
  }
 },
 "nbformat": 4,
 "nbformat_minor": 2
}
