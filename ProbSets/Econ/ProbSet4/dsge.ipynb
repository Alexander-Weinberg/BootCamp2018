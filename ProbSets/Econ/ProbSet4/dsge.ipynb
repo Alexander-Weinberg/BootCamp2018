{
 "cells": [
  {
   "cell_type": "markdown",
   "metadata": {},
   "source": [
    "## Question 5\n",
    "Solve DSGE model numerically"
   ]
  },
  {
   "cell_type": "markdown",
   "metadata": {},
   "source": [
    "\\begin{split}\n",
    "u(c_t) & = \\frac{c^{1-\\gamma}_t -1}{1-\\gamma}      \\\\\n",
    "F(K_t,L_t,z_t) & = K^{\\alpha}_t (L_te^{z_t})^{1-\\alpha}  \\nonumber\n",
    "\\end{split}\n",
    "\n",
    "\n",
    "\\begin{align*}\n",
    "c_t &= (1-\\tau)(w_t+ (r_t -\\delta)k_t) + k_t + T_t - k_{t+1} \\\\\n",
    "\\frac{1}{c_t^{-\\gamma}} &= \\beta E_t \\big\\{ \\frac{1}{c_{t+1}^{-\\gamma}}((r_{t+1} - \\delta)(1-\\tau)+ 1) \\big\\} \\\\\n",
    "r_t &= \\alpha (e^{zt})^{(1-\\alpha)} K_t^{\\alpha-1} \\\\\n",
    "w_t &= (1-\\alpha) (e^{zt})^{(1-\\alpha)} K_t^{\\alpha} \\\\\n",
    "\\tau(w_t + (r_t -\\delta)k_t) &= T_t \\\\\n",
    "z_t &= (1-p_z)\\bar{z} + p_zz_{t-1} + \\epsilon^z_t,  \\epsilon^z_t \\sim \\text{i.i.d}(0, \\sigma^2_z)\n",
    "\\end{align*}"
   ]
  },
  {
   "cell_type": "code",
   "execution_count": 6,
   "metadata": {},
   "outputs": [],
   "source": [
    "import numpy as np\n",
    "import matplotlib.pyplot as plt\n",
    "import scipy.optimize as opt\n",
    "from collections import namedtuple"
   ]
  },
  {
   "cell_type": "code",
   "execution_count": 10,
   "metadata": {},
   "outputs": [],
   "source": [
    "params = [\"gamma\", \"beta\", \"alpha\", \"delta\", \"zbar\", \"tau\", \"sigma\", \"rho\", \"xi\", \"a\"]\n",
    "DSGE = namedtuple(\"BaselineModel\", params)\n",
    "\n",
    "q5 = DSGE(2.5, 0.98, 0.40, 0.10, 0.0, 0.05, 0.02, 0.95, 1.5, 0.05)"
   ]
  },
  {
   "cell_type": "code",
   "execution_count": 82,
   "metadata": {},
   "outputs": [],
   "source": [
    "def get_jumps(k, l=1, params=q5):\n",
    "    '''\n",
    "    Given a level of capital/labor and a named tuple of parameters, this function will return \n",
    "    all the jump variables. \n",
    "    \n",
    "    Inputs are:\n",
    "        k: capital\n",
    "        l: labor\n",
    "        z: random shock to productivity\n",
    "        params: named_tuple of parameter values\n",
    "    \n",
    "    Output are:\n",
    "        Y: output\n",
    "        w: wage rate\n",
    "        r: rental rate on capital\n",
    "        c: consumption\n",
    "        i: investment\n",
    "    '''\n",
    "    w = (1 - params.alpha)*(k**params.alpha)*(l**(-params.alpha))\n",
    "    r = params.alpha * ((k)**(params.alpha-1)) * (l ** (1 - params.alpha))\n",
    "    y = (k ** params.alpha)*((l * np.exp(params.zbar)) ** (1 - params.alpha))\n",
    "\n",
    "    c = w * l + (r - params.delta) * k\n",
    "    u = (c ** (1 - params.gamma)) - 1 / (1 - params.gamma)\n",
    "    \n",
    "    i = params.delta * y\n",
    "    \n",
    "    return w,r,y,c,u, i\n",
    "\n",
    "def inter_ee(k, *args):\n",
    "    '''\n",
    "    For a given level of capital, \n",
    "    \n",
    "    Inputs are:\n",
    "        k: capital\n",
    "        args: various parameters of the model\n",
    "    \n",
    "    Output are:\n",
    "        Error: optimal allocation is when error=0\n",
    "    '''\n",
    "    gamma, beta, tau, delta = args # params\n",
    "    \n",
    "    w,r,y,c,u,i = get_jumps(k=k) # get jump vars\n",
    "    \n",
    "    error = (c ** -gamma) - beta * (c ** -gamma) * ((1 - tau) * (r - delta) + 1)\n",
    "    return error"
   ]
  },
  {
   "cell_type": "code",
   "execution_count": 94,
   "metadata": {},
   "outputs": [
    {
     "name": "stdout",
     "output_type": "stream",
     "text": [
      "QUESTION 5\n",
      "Capital steady state =  [7.28749795]\n",
      "Output steady state =  [2.21325461]\n",
      "Investment steady state =  [0.22132546]\n"
     ]
    }
   ],
   "source": [
    "params = q5\n",
    "args = (params.gamma, params.beta, params.tau, params.delta)\n",
    "\n",
    "ss_guess = 1\n",
    "kbar = opt.root(inter_ee, ss_guess, args=args).x # root of euler is steady state\n",
    "w,r,y,c,u,i = get_jumps(k=kbar)\n",
    "\n",
    "print(\"QUESTION 5\")\n",
    "print(\"Capital steady state = \", kbar)\n",
    "print(\"Output steady state = \", y)\n",
    "print(\"Investment steady state = \", i)"
   ]
  },
  {
   "cell_type": "markdown",
   "metadata": {},
   "source": [
    "## Question 6"
   ]
  },
  {
   "cell_type": "code",
   "execution_count": 100,
   "metadata": {},
   "outputs": [],
   "source": [
    "# Similar to above but now two euler equations, labor/leisure and intertemporal\n",
    "def interintra_ee(state, *args):\n",
    "    gamma, alpha, beta, delta, tau, a, xi = args\n",
    "    k, l = state\n",
    "    w, r, y, c, u, i = get_jumps(k=k, l=l) # get jump vars\n",
    "    \n",
    "    error1 = (c**(-gamma)) - beta*(c**(-gamma))*((1 - tau)*(r - delta) + 1)\n",
    "    error2 = a*((1 - l) ** (-xi))- w * (c**(-gamma)) *(1 - tau)\n",
    "    return np.array([error1, error2])"
   ]
  },
  {
   "cell_type": "code",
   "execution_count": 106,
   "metadata": {},
   "outputs": [
    {
     "name": "stdout",
     "output_type": "stream",
     "text": [
      "Steady State Capital: 4.225229026798704\n",
      "Steady State labor: 0.5797914531667254\n",
      "Steady State Output: 1.2832261088340167\n",
      "Steady State Investment: 0.12832261088340166\n"
     ]
    }
   ],
   "source": [
    "q6 = DSGE(2.5, 0.98, 0.40, 0.10, 0.0, 0.05, 0.02, 0.95, 1.5, 0.5)\n",
    "args = (q6.gamma, q6.alpha, q6.beta, q6.delta, q6.tau, q6.a, q6.xi)\n",
    "\n",
    "ss_guess = np.array([7,0.3])\n",
    "k, l = opt.root(interintra_ee, ss_guess, args=args).x\n",
    "w, r, y, c, u, i = get_jumps(k=k, l=l)\n",
    "\n",
    "print(\"Steady State Capital:\", k)\n",
    "print(\"Steady State labor:\", l)\n",
    "print(\"Steady State Output:\", y)\n",
    "print(\"Steady State Investment:\", i)"
   ]
  },
  {
   "cell_type": "code",
   "execution_count": null,
   "metadata": {},
   "outputs": [],
   "source": []
  },
  {
   "cell_type": "code",
   "execution_count": null,
   "metadata": {},
   "outputs": [],
   "source": []
  }
 ],
 "metadata": {
  "kernelspec": {
   "display_name": "Python 3",
   "language": "python",
   "name": "python3"
  },
  "language_info": {
   "codemirror_mode": {
    "name": "ipython",
    "version": 3
   },
   "file_extension": ".py",
   "mimetype": "text/x-python",
   "name": "python",
   "nbconvert_exporter": "python",
   "pygments_lexer": "ipython3",
   "version": "3.6.5"
  }
 },
 "nbformat": 4,
 "nbformat_minor": 2
}
