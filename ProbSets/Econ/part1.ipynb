{
 "cells": [
  {
   "cell_type": "markdown",
   "metadata": {},
   "source": [
    "# Question 1"
   ]
  },
  {
   "cell_type": "markdown",
   "metadata": {},
   "source": [
    "Using the calibration from Section 2.6, write a Python function named\n",
    "feasible() that has the following form:\n",
    "\n",
    "b_cnstr, c_cnstr, K_cnstr = feasible(f_params, bvec_guess)\n",
    "\n",
    "Use the following parameterization of the model for the problems below. Because agents live for only three periods, assume that each period of life is 20 years. If the annual discount factor is estimated to be 0.96, then the 20-year discount factor is β = 0.9620 = 0.442. Let the annual depreciation rate of capital be 0.05. Then the 20-year depreciation rate is δ = 1 − (1 − 0.05)20 = 0.6415. Let the coefficient of relative risk aversion be σ = 3, let the productivity scale parameter of firms be A = 1, and let the capital share of income be α = 0.35."
   ]
  },
  {
   "cell_type": "code",
   "execution_count": 343,
   "metadata": {},
   "outputs": [],
   "source": [
    "import numpy as np\n",
    "import time\n",
    "import scipy.optimize as opt\n",
    "import matplotlib.pyplot as plt"
   ]
  },
  {
   "cell_type": "code",
   "execution_count": 331,
   "metadata": {},
   "outputs": [],
   "source": [
    "# globals\n",
    "A = 1\n",
    "alpha = 0.35\n",
    "delta = 0.6415\n",
    "beta = 0.442\n",
    "sigma = 3\n",
    "SS_tol = 1e-5\n",
    "\n",
    "labor_supply = np.array([1.0, 1.0, 0.2])\n",
    "\n",
    "f_params = (labor_supply, A, alpha, delta)\n",
    "bvec_guess = np.array([0, 1, 1])\n",
    "\n",
    "params = ((beta, sigma, labor_supply, A, alpha, delta, SS_tol))"
   ]
  },
  {
   "cell_type": "code",
   "execution_count": 332,
   "metadata": {},
   "outputs": [],
   "source": [
    "def find_r(L, K, alpha=alpha, A=A, delta=delta):\n",
    "    \"\"\"\n",
    "    Finds the interest rate given paramters\n",
    "    \"\"\"\n",
    "    r = (alpha * A * ((L / K) ** (1 - alpha))) - delta\n",
    "    return r\n",
    "\n",
    "def find_w(L, K, alpha=alpha, A=A):\n",
    "    \"\"\"\n",
    "    Finds the wage given paramters\n",
    "    \"\"\"    \n",
    "    w = (1 - alpha) * A * ((K / L) ** alpha) \n",
    "    return w\n",
    "\n",
    "def production(K,L, A=A, alpha=alpha):\n",
    "    \"\"\"\n",
    "    Cobb-Douglas production function\n",
    "    \"\"\"\n",
    "    Y = A * (K ** alpha) * (L ** (1-alpha)) # production\n",
    "    return Y\n"
   ]
  },
  {
   "cell_type": "code",
   "execution_count": 333,
   "metadata": {},
   "outputs": [],
   "source": [
    "def feasible(f_params=f_params, bvec_guess=bvec_guess):\n",
    "    \"\"\"\n",
    "    Takes in parameters/guess and spits out Boolean vectors of satisfying constraints.\n",
    "    Checks the budget constraint, True means violated\n",
    "    ----------------------------\n",
    "    Arguments:\n",
    "    f_params , tuple = (labor_supply, A, alpha, delta)\n",
    "    bvec_guess, tuple = np.array([scalar, scalar])\n",
    "    \n",
    "    Returns:\n",
    "    b_cnstr, vector = boolean of failing saving constraint\n",
    "    c_cnstr, vector = boolean of failing consumption constraint\n",
    "    K_cnstr, vector = boolean of failing capital constraint\n",
    "    ----------------------------\n",
    "    \"\"\"\n",
    "    # Unpack\n",
    "    b_1, b_2, b_3 = bvec_guess\n",
    "    labor_supply, A, alpha, delta = f_params\n",
    "    \n",
    "    # Firm Objects\n",
    "    K = b_1 + b_2 + b_3      # capital\n",
    "    L = labor_supply.sum()   # labor\n",
    "    I = delta*K              # Investment\n",
    "    Y = production(K=K, L=L, A=A, alpha=alpha) # production\n",
    "    \n",
    "    # Prices\n",
    "    r = find_r(L=L, K=K) #interest\n",
    "    w = find_w(L=L, K=K) # wage\n",
    "\n",
    "    # HH's problem\n",
    "    wages = w * labor_supply\n",
    "    savings = np.array([b_1, b_2, b_3])\n",
    "    sav_tomorrow = np.roll(savings, len(savings)-1)\n",
    "    \n",
    "    # Capital constraint\n",
    "    K_cnstr = True if K <=0 else False\n",
    "        \n",
    "    # consumtion constraint\n",
    "    cons = (1 + r) * savings + wages - sav_tomorrow\n",
    "    c_cnstr = (cons <= 0)\n",
    "    \n",
    "    # savings constraint\n",
    "    if c_cnstr[1]:\n",
    "        b_cnstr = np.array([True, True])\n",
    "    else:\n",
    "        b_cnstr = np.array([c_cnstr[0], c_cnstr[-1]])\n",
    "\n",
    "    return b_cnstr, c_cnstr, K_cnstr\n",
    "#b_cnstr, c_cnstr, K_cnstr"
   ]
  },
  {
   "cell_type": "markdown",
   "metadata": {},
   "source": [
    "## Part a"
   ]
  },
  {
   "cell_type": "code",
   "execution_count": 334,
   "metadata": {},
   "outputs": [
    {
     "name": "stdout",
     "output_type": "stream",
     "text": [
      "b_cnstr is  [ True False] \n",
      "c_cnstr is  [ True False False] \n",
      "K_cnstr is  False\n",
      "\n",
      "Consumption nonnegativity for s=1 is violated\n"
     ]
    }
   ],
   "source": [
    "bvec_guess = np.array([0, 1.0, 1.2])\n",
    "b_cnstr, c_cnstr, K_cnstr = feasible(bvec_guess=bvec_guess)\n",
    "print('b_cnstr is ', b_cnstr, '\\nc_cnstr is ', c_cnstr,'\\nK_cnstr is ', K_cnstr)\n",
    "print('\\nConsumption nonnegativity for s=1 is violated')"
   ]
  },
  {
   "cell_type": "markdown",
   "metadata": {},
   "source": [
    "## Part b"
   ]
  },
  {
   "cell_type": "code",
   "execution_count": 335,
   "metadata": {},
   "outputs": [
    {
     "name": "stdout",
     "output_type": "stream",
     "text": [
      "b_cnstr is  [False False] \n",
      "c_cnstr is  [False False False] \n",
      "K_cnstr is  False\n",
      "\n",
      "No constraint is violated but the household is borrowing from age 3 to consume at age 2 which is weird.\n"
     ]
    }
   ],
   "source": [
    "bvec_guess = np.array([0, 0.06, -0.001])\n",
    "b_cnstr, c_cnstr, K_cnstr = feasible(bvec_guess=bvec_guess)\n",
    "print('b_cnstr is ', b_cnstr, '\\nc_cnstr is ', c_cnstr,'\\nK_cnstr is ', K_cnstr)\n",
    "print('\\nNo constraint is violated but the household is borrowing from age 3 to consume at age 2 which is weird.')"
   ]
  },
  {
   "cell_type": "markdown",
   "metadata": {},
   "source": [
    "## Part c"
   ]
  },
  {
   "cell_type": "code",
   "execution_count": 336,
   "metadata": {},
   "outputs": [
    {
     "name": "stdout",
     "output_type": "stream",
     "text": [
      "b_cnstr is  [False False] \n",
      "c_cnstr is  [False False False] \n",
      "K_cnstr is  False\n",
      "\n",
      "No constraint is violated.\n"
     ]
    }
   ],
   "source": [
    "bvec_guess = np.array([0, 0.1, 0.1])\n",
    "b_cnstr, c_cnstr, K_cnstr = feasible(bvec_guess=bvec_guess)\n",
    "print('b_cnstr is ', b_cnstr, '\\nc_cnstr is ', c_cnstr,'\\nK_cnstr is ', K_cnstr)\n",
    "print('\\nNo constraint is violated.')"
   ]
  },
  {
   "cell_type": "markdown",
   "metadata": {},
   "source": [
    "# Question 2"
   ]
  },
  {
   "cell_type": "code",
   "execution_count": 425,
   "metadata": {},
   "outputs": [],
   "source": [
    "def u_prime(c, sigma=sigma):\n",
    "    \"\"\"\n",
    "    CRRRA marginal utility with parameter sigma\n",
    "    \"\"\"\n",
    "    if c == 0:\n",
    "        return np.inf\n",
    "    else:\n",
    "        return c ** (-sigma)\n",
    "\n",
    "def ee_errors(bvec_guess, *args):\n",
    "    \"\"\"\n",
    "    Compute vector (s-1 x 1) euler equation error\n",
    "    \"\"\"\n",
    "    \n",
    "    beta, sigma, labor_supply, A, alpha, delta, SS_tol = args\n",
    "    \n",
    "    # Impose firm optimality\n",
    "    K = bvec_guess.sum()\n",
    "    L = labor_supply.sum()\n",
    "    \n",
    "    # get prices\n",
    "    r = find_r(L, K, alpha=alpha, A=A, delta=delta)\n",
    "    w = find_w(L, K, alpha=alpha, A=A)\n",
    "    \n",
    "    # HH's problem\n",
    "    wages = w * labor_supply\n",
    "    savings = np.array([0, *bvec_guess])\n",
    "    sav_tomorrow = np.roll(savings, len(savings)-1)\n",
    "    cons = (1 + r) * savings + wages - sav_tomorrow\n",
    "    \n",
    "    EulErr_ss = np.array([\n",
    "        beta * (1+r) * u_prime(cons[1]) - u_prime(cons[0]),\n",
    "        beta * (1+r) * u_prime(cons[2]) - u_prime(cons[1])\n",
    "    ])\n",
    "    \n",
    "    return EulErr_ss\n",
    "\n",
    "def get_SS(params=params, bvec_guess=bvec_guess, SS_graphs=False):\n",
    "    start_time = time.clock()\n",
    "    \n",
    "    # unpack\n",
    "    beta, sigma, labor_supply, A, alpha, delta, SS_tol = params\n",
    "    \n",
    "    # find SS\n",
    "    results = opt.root(ee_errors, bvec_guess[1:], args=params)\n",
    "    \n",
    "    b_ss = np.array([*results.x, 0])\n",
    "    EulErr_ss = results.fun\n",
    "    \n",
    "    K_ss = b_ss.sum()\n",
    "    L_ss = labor_supply.sum()\n",
    "    Y_ss = production(K_ss, L_ss, A=A, alpha=alpha)\n",
    "    \n",
    "    r_ss = find_r(L_ss, K_ss, alpha=alpha, A=A, delta=delta)\n",
    "    w_ss = find_w(L_ss, K_ss, alpha=alpha, A=A)\n",
    "    \n",
    "    asset_income = np.roll(b_ss, 1) # rotates vector from savings decision to assett income\n",
    "    c_ss = ((1 + r_ss) * asset_income) + (w_ss * labor_supply) - b_ss\n",
    "    C_ss = c_ss.sum()\n",
    "\n",
    "    RCerr_ss = Y_ss - C_ss - delta*K_ss  # resource constraint error\n",
    "    \n",
    "    ss_time = time.clock() - start_time  #timing\n",
    "    \n",
    "    ss_output = {\n",
    "        'b_ss': b_ss, 'c_ss': c_ss, 'w_ss': w_ss, 'r_ss': r_ss,\n",
    "        'K_ss': K_ss, 'Y_ss': Y_ss, 'C_ss': C_ss,\n",
    "        'EulErr_ss': EulErr_ss, 'RCerr_ss': RCerr_ss,\n",
    "        'ss_time': ss_time}\n",
    "    \n",
    "    if SS_graphs:\n",
    "        fig, axes = plt.subplots(2,1,figsize=(10,6))\n",
    "        axes[0].plot(c_ss, 'r-o')\n",
    "        axes[0].set_title('Steady state consumption')\n",
    "        axes[0].set_xlabel('Age')\n",
    "        axes[0].set_ylabel('Consumption')\n",
    "        \n",
    "        axes[1].plot(b_ss, 'b-o')\n",
    "        axes[1].set_title('Steady state savings')\n",
    "        axes[1].set_xlabel('Age')\n",
    "        axes[1].set_ylabel('Savings')\n",
    "        [ax.set_xticks([0,1,2]) for ax in axes]\n",
    "        \n",
    "        plt.tight_layout()\n",
    "    return ss_output"
   ]
  },
  {
   "cell_type": "code",
   "execution_count": 429,
   "metadata": {},
   "outputs": [
    {
     "name": "stdout",
     "output_type": "stream",
     "text": [
      "why is consumption highest in retirement?\n"
     ]
    },
    {
     "data": {
      "text/plain": [
       "{'b_ss': array([0.01931253, 0.0584111 , 0.        ]),\n",
       " 'c_ss': array([0.18241213, 0.20961468, 0.24087387]),\n",
       " 'w_ss': 0.20172465739052575,\n",
       " 'r_ss': 2.433062339127069,\n",
       " 'K_ss': 0.07772362575316386,\n",
       " 'Y_ss': 0.6827603788602411,\n",
       " 'C_ss': 0.6329006729395864,\n",
       " 'EulErr_ss': array([ 1.39266376e-12, -2.62900812e-12]),\n",
       " 'RCerr_ss': 8.326672684688674e-17,\n",
       " 'ss_time': 0.006033999999999651}"
      ]
     },
     "execution_count": 429,
     "metadata": {},
     "output_type": "execute_result"
    },
    {
     "data": {
      "image/png": "[encoded data removed]",
      "text/plain": [
       "<Figure size 720x432 with 2 Axes>"
      ]
     },
     "metadata": {},
     "output_type": "display_data"
    }
   ],
   "source": [
    "print('why is consumption highest in retirement?')\n",
    "get_SS(SS_graphs=True)"
   ]
  },
  {
   "cell_type": "code",
   "execution_count": null,
   "metadata": {},
   "outputs": [],
   "source": []
  },
  {
   "cell_type": "markdown",
   "metadata": {},
   "source": [
    "## part c\n",
    "\n",
    "If beta goes up, then \n",
    "\n",
    "b_1 and b_2 go up, this makes sense because now the marginal benefit of saving more has gone up\n",
    "\n",
    "c_1, c_2, and c_3 go up. This is surprising but can be rationalized by the fact that w went up because f'(L) goes up in K=sum(b).\n",
    "\n",
    "w_ss has gone up because more saving means MPL is higher\n",
    "r_ss has gone down because more saving means marginal product of capital is lower.\n"
   ]
  },
  {
   "cell_type": "code",
   "execution_count": 432,
   "metadata": {},
   "outputs": [
    {
     "data": {
      "text/plain": [
       "{'b_ss': array([0.02817692, 0.07686545, 0.        ]),\n",
       " 'c_ss': array([0.19597528, 0.22861594, 0.26669307]),\n",
       " 'w_ss': 0.22415219593446706,\n",
       " 'r_ss': 1.8863765057189819,\n",
       " 'K_ss': 0.1050423702259807,\n",
       " 'Y_ss': 0.7586689708551193,\n",
       " 'C_ss': 0.6912842903551526,\n",
       " 'EulErr_ss': array([-6.87805368e-12, -2.52953214e-12]),\n",
       " 'RCerr_ss': 9.71445146547012e-17,\n",
       " 'ss_time': 0.0028639999999988675}"
      ]
     },
     "execution_count": 432,
     "metadata": {},
     "output_type": "execute_result"
    },
    {
     "data": {
      "image/png": "[encoded data removed]",
      "text/plain": [
       "<Figure size 720x432 with 2 Axes>"
      ]
     },
     "metadata": {},
     "output_type": "display_data"
    }
   ],
   "source": [
    "# increase beta, compartive statics\n",
    "new_beta = 0.55\n",
    "params1 = ((new_beta, sigma, labor_supply, A, alpha, delta, SS_tol))\n",
    "get_SS(params = params1, SS_graphs=True)"
   ]
  },
  {
   "cell_type": "code",
   "execution_count": null,
   "metadata": {},
   "outputs": [],
   "source": []
  },
  {
   "cell_type": "code",
   "execution_count": null,
   "metadata": {},
   "outputs": [],
   "source": []
  },
  {
   "cell_type": "code",
   "execution_count": null,
   "metadata": {},
   "outputs": [],
   "source": []
  }
 ],
 "metadata": {
  "kernelspec": {
   "display_name": "Python 3",
   "language": "python",
   "name": "python3"
  },
  "language_info": {
   "codemirror_mode": {
    "name": "ipython",
    "version": 3
   },
   "file_extension": ".py",
   "mimetype": "text/x-python",
   "name": "python",
   "nbconvert_exporter": "python",
   "pygments_lexer": "ipython3",
   "version": "3.6.5"
  }
 },
 "nbformat": 4,
 "nbformat_minor": 2
}
