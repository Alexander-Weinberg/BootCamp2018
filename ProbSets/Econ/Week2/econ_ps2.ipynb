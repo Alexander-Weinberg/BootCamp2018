{
 "cells": [
  {
   "cell_type": "markdown",
   "metadata": {},
   "source": [
    "# Question 1"
   ]
  },
  {
   "cell_type": "code",
   "execution_count": 19,
   "metadata": {},
   "outputs": [],
   "source": [
    "import numpy as np\n",
    "from numpy.linalg import matrix_power\n",
    "import scipy.linalg as LA\n",
    "import matplotlib.pyplot as plt\n",
    "from numba import vectorize, jit, njit, float64, prange\n",
    "\n",
    "\n",
    "mat = np.loadtxt('/Users/alexweinberg/Desktop/BootCamp2018/ProbSets/Econ/Week2/matrix_data.txt')\n",
    "\n",
    "lamb = LA.eigvals(mat) # compute eigenvalues\n",
    "spec = np.absolute(lamb).max()\n",
    "# r(X) = spec = 1.0044277694480632"
   ]
  },
  {
   "cell_type": "code",
   "execution_count": 20,
   "metadata": {},
   "outputs": [],
   "source": [
    "def operator(v,X,i=int):\n",
    "    '''\n",
    "    ----------------------------------------\n",
    "    Parameters:\n",
    "    ----------------------------------------\n",
    "    v    vector, n x 1\n",
    "    X    matrix, n x 1\n",
    "    i    integer, 1 x 1\n",
    "    ----------------------------------------\n",
    "    this value should converge to spec, r(X)\n",
    "    ||X^i v||^(1/i) --> r(X)\n",
    "    '''\n",
    "    r = LA.norm(matrix_power(X,i) @ v) ** (1/i)\n",
    "    dist = np.absolute(r - spec)\n",
    "    return r, dist\n",
    "\n",
    "j,jj = mat.shape\n",
    "v = np.ones(j)"
   ]
  },
  {
   "cell_type": "code",
   "execution_count": 21,
   "metadata": {},
   "outputs": [
    {
     "data": {
      "text/plain": [
       "0.0012011304694321545"
      ]
     },
     "execution_count": 21,
     "metadata": {},
     "output_type": "execute_result"
    }
   ],
   "source": [
    "i = 1_000\n",
    "r, dist = operator(v,mat,i)\n",
    "dist"
   ]
  },
  {
   "cell_type": "code",
   "execution_count": 22,
   "metadata": {},
   "outputs": [
    {
     "data": {
      "text/plain": [
       "1.200420037306138e-05"
      ]
     },
     "execution_count": 22,
     "metadata": {},
     "output_type": "execute_result"
    }
   ],
   "source": [
    "i = 100_000\n",
    "r, dist = operator(v,mat,i)\n",
    "dist"
   ]
  },
  {
   "cell_type": "markdown",
   "metadata": {},
   "source": [
    "# Question 2"
   ]
  },
  {
   "cell_type": "code",
   "execution_count": 23,
   "metadata": {},
   "outputs": [],
   "source": [
    "@jit\n",
    "def sim_ts(x0, ts_length=int):\n",
    "    '''\n",
    "    Simulate a time-series\n",
    "    -----------------------\n",
    "    x0 = initial value\n",
    "    ts_length = number of times apply the difference equation\n",
    "    '''\n",
    "    x = x0 # initial guess\n",
    "    for t in range(ts_length-1):\n",
    "        # difference equation, g, is here\n",
    "        x = 4 * x * (1 - x)\n",
    "\n",
    "    return x"
   ]
  },
  {
   "cell_type": "code",
   "execution_count": 24,
   "metadata": {},
   "outputs": [
    {
     "data": {
      "text/plain": [
       "0.918969052370147"
      ]
     },
     "execution_count": 24,
     "metadata": {},
     "output_type": "execute_result"
    }
   ],
   "source": [
    "# Compile\n",
    "sim_ts(0.4,10)"
   ]
  },
  {
   "cell_type": "code",
   "execution_count": 25,
   "metadata": {},
   "outputs": [
    {
     "name": "stdout",
     "output_type": "stream",
     "text": [
      "CPU times: user 2.5 s, sys: 14.5 ms, total: 2.52 s\n",
      "Wall time: 2.54 s\n"
     ]
    },
    {
     "data": {
      "image/png": "[encoded data removed]",
      "text/plain": [
       "<Figure size 432x288 with 1 Axes>"
      ]
     },
     "metadata": {},
     "output_type": "display_data"
    }
   ],
   "source": [
    "%%time\n",
    "ts_length = 10_000_000\n",
    "xknot = np.random.rand(100)\n",
    "outcome = np.empty(xknot.size)\n",
    "\n",
    "for i, x0 in enumerate(xknot):\n",
    "    outcome[i] = sim_ts(x0, ts_length=ts_length)\n",
    "\n",
    "plt.hist(outcome)"
   ]
  },
  {
   "cell_type": "markdown",
   "metadata": {},
   "source": [
    "# Question 3"
   ]
  },
  {
   "cell_type": "markdown",
   "metadata": {},
   "source": [
    "Because it is pointwise continuous, $$ \\forall \\epsilon \\exists \\delta,\\text{s.t.} \\quad |g(\\hat{x}) - g(a)| < \\epsilon \\quad \\text{when} \\quad |\\hat{x} - a| < \\delta$$\n",
    "\n",
    "Now, b/c limit, $\\forall \\epsilon$ we can choose T s.t. \n",
    "$$|g^t(x) - \\hat{x}| < \\epsilon \\quad \\text{when} \\quad t > T $$\n",
    "\n",
    "We choose T s.t. \n",
    "$$|g^t(x) - \\hat{x}| < \\delta $$\n",
    "$$g(\\lim_{t \\rightarrow \\infty}g^{t}(x)) = g(\\hat{x}) = \\hat{x}$$"
   ]
  },
  {
   "cell_type": "code",
   "execution_count": null,
   "metadata": {},
   "outputs": [],
   "source": []
  }
 ],
 "metadata": {
  "kernelspec": {
   "display_name": "Python 3",
   "language": "python",
   "name": "python3"
  },
  "language_info": {
   "codemirror_mode": {
    "name": "ipython",
    "version": 3
   },
   "file_extension": ".py",
   "mimetype": "text/x-python",
   "name": "python",
   "nbconvert_exporter": "python",
   "pygments_lexer": "ipython3",
   "version": "3.6.5"
  }
 },
 "nbformat": 4,
 "nbformat_minor": 2
}
