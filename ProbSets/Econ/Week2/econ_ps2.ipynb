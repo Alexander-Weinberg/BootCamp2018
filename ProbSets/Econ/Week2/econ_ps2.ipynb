{
 "cells": [
  {
   "cell_type": "markdown",
   "metadata": {},
   "source": [
    "# Pset 1"
   ]
  },
  {
   "cell_type": "markdown",
   "metadata": {},
   "source": [
    "## Question 1"
   ]
  },
  {
   "cell_type": "code",
   "execution_count": 11,
   "metadata": {},
   "outputs": [],
   "source": [
    "import numpy as np\n",
    "from numpy.linalg import matrix_power\n",
    "from scipy.stats import norm\n",
    "import scipy.linalg as LA\n",
    "import matplotlib.pyplot as plt\n",
    "from numba import vectorize, jit, njit, float64, prange\n",
    "\n",
    "\n",
    "mat = np.loadtxt('/Users/alexweinberg/Desktop/BootCamp2018/ProbSets/Econ/Week2/matrix_data.txt')\n",
    "\n",
    "lamb = LA.eigvals(mat) # compute eigenvalues\n",
    "spec = np.absolute(lamb).max()\n",
    "# r(X) = spec = 1.0044277694480632"
   ]
  },
  {
   "cell_type": "code",
   "execution_count": 12,
   "metadata": {},
   "outputs": [],
   "source": [
    "def operator(v,X,i=int):\n",
    "    '''\n",
    "    ----------------------------------------\n",
    "    Parameters:\n",
    "    ----------------------------------------\n",
    "    v    vector, n x 1\n",
    "    X    matrix, n x 1\n",
    "    i    integer, 1 x 1\n",
    "    ----------------------------------------\n",
    "    this value should converge to spec, r(X)\n",
    "    ||X^i v||^(1/i) --> r(X)\n",
    "    '''\n",
    "    r = LA.norm(matrix_power(X,i) @ v) ** (1/i)\n",
    "    dist = np.absolute(r - spec)\n",
    "    return r, dist\n",
    "\n",
    "j,jj = mat.shape\n",
    "v = np.ones(j)"
   ]
  },
  {
   "cell_type": "code",
   "execution_count": 13,
   "metadata": {},
   "outputs": [
    {
     "data": {
      "text/plain": [
       "0.0012011304694321545"
      ]
     },
     "execution_count": 13,
     "metadata": {},
     "output_type": "execute_result"
    }
   ],
   "source": [
    "i = 1_000\n",
    "r, dist = operator(v,mat,i)\n",
    "dist"
   ]
  },
  {
   "cell_type": "code",
   "execution_count": 14,
   "metadata": {},
   "outputs": [
    {
     "data": {
      "text/plain": [
       "1.200420037306138e-05"
      ]
     },
     "execution_count": 14,
     "metadata": {},
     "output_type": "execute_result"
    }
   ],
   "source": [
    "i = 100_000\n",
    "r, dist = operator(v,mat,i)\n",
    "dist"
   ]
  },
  {
   "cell_type": "markdown",
   "metadata": {},
   "source": [
    "## Question 2"
   ]
  },
  {
   "cell_type": "code",
   "execution_count": 15,
   "metadata": {},
   "outputs": [],
   "source": [
    "@jit\n",
    "def sim_ts(x0, ts_length=int):\n",
    "    '''\n",
    "    Simulate a time-series\n",
    "    -----------------------\n",
    "    x0 = initial value\n",
    "    ts_length = number of times apply the difference equation\n",
    "    '''\n",
    "    x = x0 # initial guess\n",
    "    for t in range(ts_length-1):\n",
    "        # difference equation, g, is here\n",
    "        x = 4 * x * (1 - x)\n",
    "\n",
    "    return x"
   ]
  },
  {
   "cell_type": "code",
   "execution_count": 16,
   "metadata": {},
   "outputs": [
    {
     "data": {
      "text/plain": [
       "0.918969052370147"
      ]
     },
     "execution_count": 16,
     "metadata": {},
     "output_type": "execute_result"
    }
   ],
   "source": [
    "# Compile\n",
    "sim_ts(0.4,10)"
   ]
  },
  {
   "cell_type": "code",
   "execution_count": 17,
   "metadata": {},
   "outputs": [
    {
     "name": "stdout",
     "output_type": "stream",
     "text": [
      "CPU times: user 2.51 s, sys: 12.3 ms, total: 2.53 s\n",
      "Wall time: 2.54 s\n"
     ]
    },
    {
     "data": {
      "image/png": "[encoded data removed]",
      "text/plain": [
       "<Figure size 432x288 with 1 Axes>"
      ]
     },
     "metadata": {},
     "output_type": "display_data"
    }
   ],
   "source": [
    "%%time\n",
    "ts_length = 10_000_000\n",
    "xknot = np.random.rand(100)\n",
    "outcome = np.empty(xknot.size)\n",
    "\n",
    "for i, x0 in enumerate(xknot):\n",
    "    outcome[i] = sim_ts(x0, ts_length=ts_length)\n",
    "\n",
    "plt.hist(outcome)"
   ]
  },
  {
   "cell_type": "markdown",
   "metadata": {},
   "source": [
    "## Question 3"
   ]
  },
  {
   "cell_type": "markdown",
   "metadata": {},
   "source": [
    "Because it is pointwise continuous, $$ \\forall \\epsilon \\exists \\delta,\\text{s.t.} \\quad |g(\\hat{x}) - g(a)| < \\epsilon \\quad \\text{when} \\quad |\\hat{x} - a| < \\delta$$\n",
    "\n",
    "Now, b/c limit, $\\forall \\epsilon$ we can choose T s.t. \n",
    "$$|g^t(x) - \\hat{x}| < \\epsilon \\quad \\text{when} \\quad t > T $$\n",
    "\n",
    "We choose T s.t. \n",
    "$$|g^t(x) - \\hat{x}| < \\delta $$\n",
    "$$g(\\lim_{t \\rightarrow \\infty}g^{t}(x)) = g(\\hat{x}) = \\hat{x}$$"
   ]
  },
  {
   "cell_type": "markdown",
   "metadata": {},
   "source": [
    "# Pset 2"
   ]
  },
  {
   "cell_type": "markdown",
   "metadata": {},
   "source": [
    "## Question 1"
   ]
  },
  {
   "cell_type": "code",
   "execution_count": 26,
   "metadata": {},
   "outputs": [],
   "source": [
    "class KDE(object):\n",
    "\n",
    "    def __init__(self, data=np.ndarray, bandwith=None):\n",
    "        \n",
    "        self.X = data\n",
    "        \n",
    "        if not bandwith:\n",
    "            self.h = self.compute_silv()\n",
    "        else:\n",
    "            self.h = bandwith\n",
    "            \n",
    "    def compute_silv(self):\n",
    "        ''' Silverman's rule chooses optimal bandwith  '''\n",
    "        \n",
    "        n,d = self.X.shape\n",
    "        sf = (n * (d + 2) / 4.)**(-1. / (d + 4))\n",
    "        return sf\n",
    "\n",
    "    def f(self, x, n=100):\n",
    "        \n",
    "        K = norm.pdf\n",
    "        grid = K((x - self.X) / self.h)\n",
    "        \n",
    "        val = (1/ (self.h*n)) * grid.sum()\n",
    "        return val"
   ]
  },
  {
   "cell_type": "code",
   "execution_count": 32,
   "metadata": {},
   "outputs": [
    {
     "name": "stdout",
     "output_type": "stream",
     "text": [
      "(100,)\n"
     ]
    },
    {
     "ename": "ValueError",
     "evalue": "not enough values to unpack (expected 2, got 1)",
     "output_type": "error",
     "traceback": [
      "\u001b[0;31m-------------------------------------------------------------------------\u001b[0m",
      "\u001b[0;31mValueError\u001b[0m                              Traceback (most recent call last)",
      "\u001b[0;32m<ipython-input-32-a27ea0c8392e>\u001b[0m in \u001b[0;36m<module>\u001b[0;34m()\u001b[0m\n\u001b[1;32m      2\u001b[0m \u001b[0mprint\u001b[0m\u001b[0;34m(\u001b[0m\u001b[0mdata\u001b[0m\u001b[0;34m.\u001b[0m\u001b[0mshape\u001b[0m\u001b[0;34m)\u001b[0m\u001b[0;34m\u001b[0m\u001b[0m\n\u001b[1;32m      3\u001b[0m \u001b[0;34m\u001b[0m\u001b[0m\n\u001b[0;32m----> 4\u001b[0;31m \u001b[0mkde\u001b[0m \u001b[0;34m=\u001b[0m \u001b[0mKDE\u001b[0m\u001b[0;34m(\u001b[0m\u001b[0mdata\u001b[0m\u001b[0;34m=\u001b[0m\u001b[0mdata\u001b[0m\u001b[0;34m)\u001b[0m\u001b[0;34m\u001b[0m\u001b[0m\n\u001b[0m\u001b[1;32m      5\u001b[0m \u001b[0mkde\u001b[0m\u001b[0;34m.\u001b[0m\u001b[0mh\u001b[0m\u001b[0;34m\u001b[0m\u001b[0m\n",
      "\u001b[0;32m<ipython-input-26-5f64f2154c06>\u001b[0m in \u001b[0;36m__init__\u001b[0;34m(self, data, bandwith)\u001b[0m\n\u001b[1;32m      6\u001b[0m \u001b[0;34m\u001b[0m\u001b[0m\n\u001b[1;32m      7\u001b[0m         \u001b[0;32mif\u001b[0m \u001b[0;32mnot\u001b[0m \u001b[0mbandwith\u001b[0m\u001b[0;34m:\u001b[0m\u001b[0;34m\u001b[0m\u001b[0m\n\u001b[0;32m----> 8\u001b[0;31m             \u001b[0mself\u001b[0m\u001b[0;34m.\u001b[0m\u001b[0mh\u001b[0m \u001b[0;34m=\u001b[0m \u001b[0mself\u001b[0m\u001b[0;34m.\u001b[0m\u001b[0mcompute_silv\u001b[0m\u001b[0;34m(\u001b[0m\u001b[0;34m)\u001b[0m\u001b[0;34m\u001b[0m\u001b[0m\n\u001b[0m\u001b[1;32m      9\u001b[0m         \u001b[0;32melse\u001b[0m\u001b[0;34m:\u001b[0m\u001b[0;34m\u001b[0m\u001b[0m\n\u001b[1;32m     10\u001b[0m             \u001b[0mself\u001b[0m\u001b[0;34m.\u001b[0m\u001b[0mh\u001b[0m \u001b[0;34m=\u001b[0m \u001b[0mbandwith\u001b[0m\u001b[0;34m\u001b[0m\u001b[0m\n",
      "\u001b[0;32m<ipython-input-26-5f64f2154c06>\u001b[0m in \u001b[0;36mcompute_silv\u001b[0;34m(self)\u001b[0m\n\u001b[1;32m     13\u001b[0m         \u001b[0;34m''' Silverman's rule chooses optimal bandwith  '''\u001b[0m\u001b[0;34m\u001b[0m\u001b[0m\n\u001b[1;32m     14\u001b[0m \u001b[0;34m\u001b[0m\u001b[0m\n\u001b[0;32m---> 15\u001b[0;31m         \u001b[0mn\u001b[0m\u001b[0;34m,\u001b[0m\u001b[0md\u001b[0m \u001b[0;34m=\u001b[0m \u001b[0mself\u001b[0m\u001b[0;34m.\u001b[0m\u001b[0mX\u001b[0m\u001b[0;34m.\u001b[0m\u001b[0mshape\u001b[0m\u001b[0;34m\u001b[0m\u001b[0m\n\u001b[0m\u001b[1;32m     16\u001b[0m         \u001b[0msf\u001b[0m \u001b[0;34m=\u001b[0m \u001b[0;34m(\u001b[0m\u001b[0mn\u001b[0m \u001b[0;34m*\u001b[0m \u001b[0;34m(\u001b[0m\u001b[0md\u001b[0m \u001b[0;34m+\u001b[0m \u001b[0;36m2\u001b[0m\u001b[0;34m)\u001b[0m \u001b[0;34m/\u001b[0m \u001b[0;36m4.\u001b[0m\u001b[0;34m)\u001b[0m\u001b[0;34m**\u001b[0m\u001b[0;34m(\u001b[0m\u001b[0;34m-\u001b[0m\u001b[0;36m1.\u001b[0m \u001b[0;34m/\u001b[0m \u001b[0;34m(\u001b[0m\u001b[0md\u001b[0m \u001b[0;34m+\u001b[0m \u001b[0;36m4\u001b[0m\u001b[0;34m)\u001b[0m\u001b[0;34m)\u001b[0m\u001b[0;34m\u001b[0m\u001b[0m\n\u001b[1;32m     17\u001b[0m         \u001b[0;32mreturn\u001b[0m \u001b[0msf\u001b[0m\u001b[0;34m\u001b[0m\u001b[0m\n",
      "\u001b[0;31mValueError\u001b[0m: not enough values to unpack (expected 2, got 1)"
     ]
    }
   ],
   "source": [
    "data = np.random.randn(100,)\n",
    "print(data.shape)\n",
    "\n",
    "kde = KDE(data=data)\n",
    "kde.h"
   ]
  },
  {
   "cell_type": "code",
   "execution_count": 10,
   "metadata": {},
   "outputs": [],
   "source": [
    "hi = 5\n",
    "if not hi:\n",
    "    print('hello')"
   ]
  },
  {
   "cell_type": "code",
   "execution_count": null,
   "metadata": {},
   "outputs": [],
   "source": []
  }
 ],
 "metadata": {
  "kernelspec": {
   "display_name": "Python 3",
   "language": "python",
   "name": "python3"
  },
  "language_info": {
   "codemirror_mode": {
    "name": "ipython",
    "version": 3
   },
   "file_extension": ".py",
   "mimetype": "text/x-python",
   "name": "python",
   "nbconvert_exporter": "python",
   "pygments_lexer": "ipython3",
   "version": "3.6.5"
  }
 },
 "nbformat": 4,
 "nbformat_minor": 2
}
