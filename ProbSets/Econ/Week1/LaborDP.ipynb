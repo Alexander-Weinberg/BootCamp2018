{
 "cells": [
  {
   "cell_type": "markdown",
   "metadata": {},
   "source": [
    "# Exercise 4. \n",
    "The search and matching model of labor markets is a key model in the macro- labor literature. In one version of this model, potential workers receive wage offers from a distribution of wages each period. Potential workers must decide whether to accept and begin work at this wage (and work at this wage forever) or decline the offer and continue to “search” (i.e., receive wage offers from some exogenous distribution).\n",
    "The potential workers seek to maximize the expected, discounted sum of earnings:"
   ]
  },
  {
   "cell_type": "markdown",
   "metadata": {},
   "source": [
    "# $$E_0 \\sum_{t=0}^\\infty \\beta^ty_t$$\n",
    "Income, yt, is equal to wt if employed. If unemployed, agents receive unemployment benefits b.\n",
    "Assume that wage offers are distributed as $ln(wt) ∼ N(μ, σ)$."
   ]
  },
  {
   "cell_type": "markdown",
   "metadata": {},
   "source": [
    "# Part 1\n",
    "# $$ V^e(w) = \\sum_{t=0}^\\infty{\\beta^tw} $$\n",
    "# $$ V^u(w_t) = max\\{V^e(w_t), \\quad b + \\beta E[V^u]\\} $$\n"
   ]
  },
  {
   "cell_type": "code",
   "execution_count": 58,
   "metadata": {},
   "outputs": [],
   "source": [
    "# Import packages\n",
    "import numpy as np\n",
    "import matplotlib.pyplot as plt\n",
    "from quantecon.markov.approximation import rouwenhorst\n",
    "\n",
    "\n",
    "# to print plots inline\n",
    "%matplotlib inline"
   ]
  },
  {
   "cell_type": "code",
   "execution_count": 59,
   "metadata": {},
   "outputs": [],
   "source": [
    "# Parameters\n",
    "beta = 0.96\n",
    "b = 0.5 \n",
    "\n",
    "sigZ = 0.15\n",
    "muZ = 0"
   ]
  },
  {
   "cell_type": "code",
   "execution_count": 72,
   "metadata": {},
   "outputs": [],
   "source": [
    "# Discretize risk\n",
    "nz = 100\n",
    "zdist = rouwenhorst(nz, muZ, sigZ, rho=0)\n",
    "wgrid = np.exp(zdist.state_values)\n",
    "pi = zdist.P"
   ]
  },
  {
   "cell_type": "code",
   "execution_count": 73,
   "metadata": {},
   "outputs": [],
   "source": [
    "# Guess value function\n",
    "Vguess = np.zeros(nz)\n",
    "\n"
   ]
  },
  {
   "cell_type": "code",
   "execution_count": 74,
   "metadata": {},
   "outputs": [],
   "source": [
    "# Set up the VFI\n",
    "def mcCall(b):\n",
    "    \n",
    "    # Options\n",
    "    VFtol = 1e-8 \n",
    "    VFdist = 7.0 \n",
    "    VFmaxiter = 3000 \n",
    "    VFdist = 7.0 \n",
    "    # Initialize arrays\n",
    "    V = Vguess \n",
    "    TV = np.zeros(nz)\n",
    "    PF = np.zeros_like(TV)\n",
    "\n",
    "    VFiter = 1 \n",
    "    while VFdist > VFtol and VFiter < VFmaxiter:\n",
    "        for i, w in enumerate(wgrid): # loop over epsilon\n",
    "            EV = 0\n",
    "            for j in range(nz):  # loop over epsilon'\n",
    "                EV += pi[i, j] * V[j]   \n",
    "\n",
    "            V_e = w / (1 - beta)\n",
    "            V_u = b + beta * EV \n",
    "\n",
    "            TV[i] = max(V_e, V_u)\n",
    "            PF[i] = V_e >= V_u  # = 1 if eat cake\n",
    "\n",
    "        VFdist = (np.absolute(V - TV)).max()  # check distance\n",
    "        V = TV\n",
    "        # print('Iteration number: ',VFiter, \"Distance: \", VFdist)\n",
    "        VFiter += 1 \n",
    "\n",
    "    if VFiter < VFmaxiter:\n",
    "        print('Value function converged after this many iterations:', VFiter)\n",
    "    else:\n",
    "        print('Value function did not converge')     \n",
    "    \n",
    "\n",
    "\n",
    "    VF = V # solution to the functional equation\n",
    "    return VF,PF"
   ]
  },
  {
   "cell_type": "code",
   "execution_count": 75,
   "metadata": {},
   "outputs": [
    {
     "name": "stdout",
     "output_type": "stream",
     "text": [
      "Value function converged after this many iterations: 3\n",
      "1.046265023070485\n",
      "Value function converged after this many iterations: 3\n",
      "1.0782914914254993\n",
      "Value function converged after this many iterations: 3\n",
      "1.0782914914254993\n",
      "Value function converged after this many iterations: 3\n",
      "1.0782914914254993\n",
      "Value function converged after this many iterations: 3\n",
      "1.1112982990374685\n",
      "Value function converged after this many iterations: 3\n",
      "1.1112982990374685\n",
      "Value function converged after this many iterations: 3\n",
      "1.1112982990374685\n"
     ]
    }
   ],
   "source": [
    "'''\n",
    "------------------------------------------------------------------------\n",
    "Find threshold policy functions   \n",
    "------------------------------------------------------------------------\n",
    "'''\n",
    "\n",
    "bgrid = [0,0.5,0.6,0.7,0.8,0.9,1.0]\n",
    "threshold_wage = [0,0,0,0,0,0,0]\n",
    "Vfunc = [0,0,0,0,0,0,0]\n",
    "for i,b in enumerate(bgrid):\n",
    "    VF,PF = mcCall(b)\n",
    "    takejob = np.nonzero(PF)[0]\n",
    "    idx = takejob[0]\n",
    "    threshold_wage[i] = wgrid[idx]\n",
    "    print(threshold_wage[i])\n",
    "    Vfunc[i] = VF\n",
    "# threshold_wage = 1.0782914914254993\n",
    "first_thresh = threshold_wage[0]\n"
   ]
  },
  {
   "cell_type": "code",
   "execution_count": 77,
   "metadata": {},
   "outputs": [
    {
     "data": {
      "text/plain": [
       "<Figure size 432x288 with 0 Axes>"
      ]
     },
     "metadata": {},
     "output_type": "display_data"
    },
    {
     "data": {
      "image/png": "[encoded data removed]",
      "text/plain": [
       "<Figure size 432x288 with 1 Axes>"
      ]
     },
     "metadata": {},
     "output_type": "display_data"
    }
   ],
   "source": [
    "# Plot value function \n",
    "plt.figure()\n",
    "fig, ax = plt.subplots()\n",
    "ax.plot(wgrid, Vfunc[0], label='Value Function, b=0')\n",
    "ax.axvline(x=threshold_wage[0],linewidth=1, color='r',label='Threshold Wage')\n",
    "# Now add the legend with some customizations.\n",
    "legend = ax.legend(loc='lower right', shadow=False)\n",
    "\n",
    "plt.xlabel('Wage')\n",
    "plt.ylabel('Value Function')\n",
    "plt.title('Value Function - job search model')\n",
    "plt.show()"
   ]
  },
  {
   "cell_type": "code",
   "execution_count": 80,
   "metadata": {},
   "outputs": [
    {
     "data": {
      "text/plain": [
       "<Figure size 432x288 with 0 Axes>"
      ]
     },
     "metadata": {},
     "output_type": "display_data"
    },
    {
     "data": {
      "image/png": "[encoded data removed]",
      "text/plain": [
       "<Figure size 432x288 with 1 Axes>"
      ]
     },
     "metadata": {},
     "output_type": "display_data"
    }
   ],
   "source": [
    "# Plot value function \n",
    "plt.figure()\n",
    "fig, ax = plt.subplots()\n",
    "ax.scatter(bgrid, threshold_wage, label='Threshold Wage')\n",
    "\n",
    "# Now add the legend with some customizations.\n",
    "legend = ax.legend(loc='lower right', shadow=False)\n",
    "\n",
    "plt.xlabel('b')\n",
    "plt.ylabel('Wage')\n",
    "plt.title('Threshold wage as function of unemployment benefit')\n",
    "plt.show()"
   ]
  },
  {
   "cell_type": "code",
   "execution_count": 68,
   "metadata": {},
   "outputs": [
    {
     "data": {
      "text/plain": [
       "1.1047969799682191"
      ]
     },
     "execution_count": 68,
     "metadata": {},
     "output_type": "execute_result"
    }
   ],
   "source": []
  },
  {
   "cell_type": "code",
   "execution_count": null,
   "metadata": {},
   "outputs": [],
   "source": []
  },
  {
   "cell_type": "code",
   "execution_count": null,
   "metadata": {},
   "outputs": [],
   "source": []
  }
 ],
 "metadata": {
  "kernelspec": {
   "display_name": "Python 3",
   "language": "python",
   "name": "python3"
  },
  "language_info": {
   "codemirror_mode": {
    "name": "ipython",
    "version": 3
   },
   "file_extension": ".py",
   "mimetype": "text/x-python",
   "name": "python",
   "nbconvert_exporter": "python",
   "pygments_lexer": "ipython3",
   "version": "3.6.5"
  }
 },
 "nbformat": 4,
 "nbformat_minor": 2
}
